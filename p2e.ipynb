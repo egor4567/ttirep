{
  "nbformat": 4,
  "nbformat_minor": 0,
  "metadata": {
    "colab": {
      "name": "p2e.ipynb",
      "provenance": [],
      "collapsed_sections": [],
      "authorship_tag": "ABX9TyMzZBFO1QsQxRTbQqV4YPE9",
      "include_colab_link": true
    },
    "kernelspec": {
      "name": "python3",
      "display_name": "Python 3"
    }
  },
  "cells": [
    {
      "cell_type": "markdown",
      "metadata": {
        "id": "view-in-github",
        "colab_type": "text"
      },
      "source": [
        "<a href=\"https://colab.research.google.com/github/new-divos/ttirep/blob/develop/p2e.ipynb\" target=\"_parent\"><img src=\"https://colab.research.google.com/assets/colab-badge.svg\" alt=\"Open In Colab\"/></a>"
      ]
    },
    {
      "cell_type": "markdown",
      "metadata": {
        "id": "VlPe_vfvgL9V",
        "colab_type": "text"
      },
      "source": [
        "# Анализ преобразования потока с распределением Парето в поток с экспоненциальным распределением"
      ]
    },
    {
      "cell_type": "code",
      "metadata": {
        "id": "PDUBJMH9xvd6",
        "colab_type": "code",
        "colab": {}
      },
      "source": [
        "import sqlite3\n",
        "\n",
        "import numpy as np\n",
        "import pandas as pd\n",
        "\n",
        "from scipy import stats\n",
        "\n",
        "from pydrive.auth import GoogleAuth\n",
        "from pydrive.drive import GoogleDrive\n",
        "from google.colab import auth\n",
        "from oauth2client.client import GoogleCredentials\n",
        "\n",
        "from matplotlib import pyplot as plt\n",
        "%matplotlib inline"
      ],
      "execution_count": 0,
      "outputs": []
    },
    {
      "cell_type": "code",
      "metadata": {
        "id": "UcfsOvdfvtro",
        "colab_type": "code",
        "colab": {}
      },
      "source": [
        "# authenticate and create the PyDrive client.\n",
        "auth.authenticate_user()\n",
        "gauth = GoogleAuth()\n",
        "gauth.credentials = GoogleCredentials.get_application_default()\n",
        "drive = GoogleDrive(gauth)"
      ],
      "execution_count": 0,
      "outputs": []
    },
    {
      "cell_type": "markdown",
      "metadata": {
        "id": "SP6Kev87hPgu",
        "colab_type": "text"
      },
      "source": [
        "Получить идентификаторы баз данных"
      ]
    },
    {
      "cell_type": "code",
      "metadata": {
        "id": "eNiSCKn90eIn",
        "colab_type": "code",
        "colab": {}
      },
      "source": [
        "folder_id = 'root'\n",
        "for node_name in ('Colab Notebooks', 'Data', 'Input', 'Networking'):\n",
        "  node_list = drive.ListFile({\n",
        "      'q': f\"'{folder_id}' in parents and trashed=false\"\n",
        "      }).GetList()\n",
        "  for node in node_list:\n",
        "    if node['title'] == node_name:\n",
        "      folder_id = node['id']\n",
        "\n",
        "p2ee_id, p2em_id = None, None\n",
        "node_list = drive.ListFile({\n",
        "    'q': f\"'{folder_id}' in parents and trashed=false\"\n",
        "}).GetList()\n",
        "for node in node_list:\n",
        "  node_name = node['title']\n",
        "  if node_name == 'P2EE.db':\n",
        "    p2ee_id = node['id']\n",
        "  elif node_name == 'P2EM.db':\n",
        "    p2em_id = node['id']"
      ],
      "execution_count": 0,
      "outputs": []
    },
    {
      "cell_type": "markdown",
      "metadata": {
        "id": "VW9G_kvNGqWx",
        "colab_type": "text"
      },
      "source": [
        "Удалить сгенерированный отчет"
      ]
    },
    {
      "cell_type": "code",
      "metadata": {
        "colab_type": "code",
        "id": "i8kBbrpzHcsP",
        "colab": {}
      },
      "source": [
        "folder_id = 'root'\n",
        "for node_name in ('Colab Notebooks', 'Data', 'Output', 'Networking'):\n",
        "  node_list = drive.ListFile({\n",
        "      'q': f\"'{folder_id}' in parents and trashed=false\"\n",
        "      }).GetList()\n",
        "  for node in node_list:\n",
        "    if node['title'] == node_name:\n",
        "      folder_id = node['id']\n",
        "\n",
        "node_list = drive.ListFile({\n",
        "    'q': f\"'{folder_id}' in parents and trashed=false\"\n",
        "}).GetList()\n",
        "for node in node_list:\n",
        "  if node['title'] == 'p2e.xlsx':\n",
        "    p2e_id = node['id']\n",
        "    p2e_file = drive.CreateFile({'id': p2e_id})\n",
        "    p2e_file.Delete()"
      ],
      "execution_count": 0,
      "outputs": []
    },
    {
      "cell_type": "markdown",
      "metadata": {
        "id": "kpSNmYQk7K09",
        "colab_type": "text"
      },
      "source": [
        "Задать количество сгенерированных пакетов"
      ]
    },
    {
      "cell_type": "code",
      "metadata": {
        "id": "30ydMvAG7RTL",
        "colab_type": "code",
        "colab": {}
      },
      "source": [
        "population_size = 1024"
      ],
      "execution_count": 0,
      "outputs": []
    },
    {
      "cell_type": "markdown",
      "metadata": {
        "id": "JoGZgmsCs-sY",
        "colab_type": "text"
      },
      "source": [
        "Вспомогательная функция подготовки фрейма данных для последующего их отображения"
      ]
    },
    {
      "cell_type": "code",
      "metadata": {
        "id": "W1XH0rQ7xaXS",
        "colab_type": "code",
        "colab": {}
      },
      "source": [
        "def get_compact_table(df: pd.DataFrame) -> pd.DataFrame:\n",
        "  index = np.arange(0., 0.1, 0.01)\n",
        "  columns = np.arange(0.5, 1.0, 0.1) \n",
        "  data = np.zeros((index.shape[0], columns.shape[0]))\n",
        "\n",
        "  for row in df.iterrows():\n",
        "    h = round(row[0] * 100)\n",
        "    row_idx, col_idx = h % 10, (h // 10) - 5\n",
        "    data[row_idx, col_idx] = row[1].values[0]\n",
        "\n",
        "  return pd.DataFrame(data=data, \n",
        "                      index=index, \n",
        "                      columns=columns, \n",
        "                      dtype=np.float32)"
      ],
      "execution_count": 0,
      "outputs": []
    },
    {
      "cell_type": "markdown",
      "metadata": {
        "id": "DiR9y94W1g5i",
        "colab_type": "text"
      },
      "source": [
        "## Загрузка данных"
      ]
    },
    {
      "cell_type": "markdown",
      "metadata": {
        "id": "ycJOPUuLoBTN",
        "colab_type": "text"
      },
      "source": [
        "### Преобразование потока из распределение Парето в экспоненциальное распределение с использованием математического ожидания"
      ]
    },
    {
      "cell_type": "markdown",
      "metadata": {
        "id": "HLDL38I0kqbz",
        "colab_type": "text"
      },
      "source": [
        "Выполним загрузку базы данных"
      ]
    },
    {
      "cell_type": "code",
      "metadata": {
        "id": "dEmMoGwc1BTc",
        "colab_type": "code",
        "colab": {}
      },
      "source": [
        "p2ee_db = drive.CreateFile({'id': p2ee_id})\n",
        "p2ee_db.GetContentFile('P2EE.db')"
      ],
      "execution_count": 0,
      "outputs": []
    },
    {
      "cell_type": "code",
      "metadata": {
        "id": "X2NeBZqa188a",
        "colab_type": "code",
        "colab": {}
      },
      "source": [
        "p2ee_conn = sqlite3.connect('P2EE.db')"
      ],
      "execution_count": 0,
      "outputs": []
    },
    {
      "cell_type": "markdown",
      "metadata": {
        "id": "TGD55fLf2cT8",
        "colab_type": "text"
      },
      "source": [
        "Получить идентификаторы паттернов"
      ]
    },
    {
      "cell_type": "code",
      "metadata": {
        "id": "0mxIK50x2Pzn",
        "colab_type": "code",
        "outputId": "3dcf9b7b-25c8-4968-8a40-295633328bb9",
        "colab": {
          "base_uri": "https://localhost:8080/",
          "height": 34
        }
      },
      "source": [
        "patterns = dict()\n",
        "\n",
        "for row in p2ee_conn.execute(\"SELECT * FROM pattern;\").fetchall():\n",
        "  patterns[row[1]] = row[0]\n",
        "\n",
        "print(patterns)"
      ],
      "execution_count": 9,
      "outputs": [
        {
          "output_type": "stream",
          "text": [
            "{'Pareto': 1, 'Weibull': 2, 'Exponent': 3, 'Uniform': 4}\n"
          ],
          "name": "stdout"
        }
      ]
    },
    {
      "cell_type": "markdown",
      "metadata": {
        "id": "OwvEmnDn3VRE",
        "colab_type": "text"
      },
      "source": [
        "Получить идентификаторы методов трансформации"
      ]
    },
    {
      "cell_type": "code",
      "metadata": {
        "id": "wqoQt7NK26gV",
        "colab_type": "code",
        "outputId": "defa94c1-2e55-490c-b5d3-9eb938555ff1",
        "colab": {
          "base_uri": "https://localhost:8080/",
          "height": 34
        }
      },
      "source": [
        "methods = dict()\n",
        "\n",
        "for row in p2ee_conn.execute(\"SELECT * FROM method;\").fetchall():\n",
        "  methods[row[1]] = row[0]\n",
        "\n",
        "print(methods)"
      ],
      "execution_count": 10,
      "outputs": [
        {
          "output_type": "stream",
          "text": [
            "{'Expectation': 1, 'Median': 2}\n"
          ],
          "name": "stdout"
        }
      ]
    },
    {
      "cell_type": "markdown",
      "metadata": {
        "id": "UXTEByW_49MT",
        "colab_type": "text"
      },
      "source": [
        "Получить данные о количестве пакетов в очереди в случае использования бесконечной очереди"
      ]
    },
    {
      "cell_type": "code",
      "metadata": {
        "id": "CLMMT2nA38fA",
        "colab_type": "code",
        "outputId": "a2ade2bb-3714-4c46-adf4-2338c0604e3e",
        "colab": {
          "base_uri": "https://localhost:8080/",
          "height": 204
        }
      },
      "source": [
        "p2ee_df = pd.read_sql_query(\n",
        "    \"\"\"\n",
        "    SELECT pareto.hurst, experiment.enqueued FROM model \n",
        "    INNER JOIN pareto ON model.id = pareto.model_id\n",
        "    INNER JOIN experiment ON model.id = experiment.model_id\n",
        "    WHERE population_size={} AND \n",
        "      queue_size=0 AND \n",
        "      arrivals_pattern_id={} AND\n",
        "      service_pattern_id={} AND\n",
        "      method_id={} AND\n",
        "      number_of_servers=1;\n",
        "    \"\"\".format(population_size, \n",
        "               patterns['Pareto'], patterns['Exponent'], \n",
        "               methods['Expectation']),\n",
        "    p2ee_conn\n",
        ")\n",
        "\n",
        "p2ee_df.head()"
      ],
      "execution_count": 11,
      "outputs": [
        {
          "output_type": "execute_result",
          "data": {
            "text/html": [
              "<div>\n",
              "<style scoped>\n",
              "    .dataframe tbody tr th:only-of-type {\n",
              "        vertical-align: middle;\n",
              "    }\n",
              "\n",
              "    .dataframe tbody tr th {\n",
              "        vertical-align: top;\n",
              "    }\n",
              "\n",
              "    .dataframe thead th {\n",
              "        text-align: right;\n",
              "    }\n",
              "</style>\n",
              "<table border=\"1\" class=\"dataframe\">\n",
              "  <thead>\n",
              "    <tr style=\"text-align: right;\">\n",
              "      <th></th>\n",
              "      <th>hurst</th>\n",
              "      <th>enqueued</th>\n",
              "    </tr>\n",
              "  </thead>\n",
              "  <tbody>\n",
              "    <tr>\n",
              "      <th>0</th>\n",
              "      <td>0.5</td>\n",
              "      <td>43</td>\n",
              "    </tr>\n",
              "    <tr>\n",
              "      <th>1</th>\n",
              "      <td>0.5</td>\n",
              "      <td>103</td>\n",
              "    </tr>\n",
              "    <tr>\n",
              "      <th>2</th>\n",
              "      <td>0.5</td>\n",
              "      <td>66</td>\n",
              "    </tr>\n",
              "    <tr>\n",
              "      <th>3</th>\n",
              "      <td>0.5</td>\n",
              "      <td>45</td>\n",
              "    </tr>\n",
              "    <tr>\n",
              "      <th>4</th>\n",
              "      <td>0.5</td>\n",
              "      <td>43</td>\n",
              "    </tr>\n",
              "  </tbody>\n",
              "</table>\n",
              "</div>"
            ],
            "text/plain": [
              "   hurst  enqueued\n",
              "0    0.5        43\n",
              "1    0.5       103\n",
              "2    0.5        66\n",
              "3    0.5        45\n",
              "4    0.5        43"
            ]
          },
          "metadata": {
            "tags": []
          },
          "execution_count": 11
        }
      ]
    },
    {
      "cell_type": "code",
      "metadata": {
        "id": "SFosqGbKTM2_",
        "colab_type": "code",
        "colab": {}
      },
      "source": [
        "p2ee_conn.close()"
      ],
      "execution_count": 0,
      "outputs": []
    },
    {
      "cell_type": "markdown",
      "metadata": {
        "id": "Pw5lHOR6BJUY",
        "colab_type": "text"
      },
      "source": [
        "Получить количество испытаний"
      ]
    },
    {
      "cell_type": "code",
      "metadata": {
        "id": "imJ3fZrxBPKp",
        "colab_type": "code",
        "outputId": "3cf7ae92-e066-4ad0-9c90-bc408fd44602",
        "colab": {
          "base_uri": "https://localhost:8080/",
          "height": 34
        }
      },
      "source": [
        "p2ee_df.shape"
      ],
      "execution_count": 13,
      "outputs": [
        {
          "output_type": "execute_result",
          "data": {
            "text/plain": [
              "(4887, 2)"
            ]
          },
          "metadata": {
            "tags": []
          },
          "execution_count": 13
        }
      ]
    },
    {
      "cell_type": "markdown",
      "metadata": {
        "id": "oxRu80HRAIpH",
        "colab_type": "text"
      },
      "source": [
        "Отобразить облако точек"
      ]
    },
    {
      "cell_type": "code",
      "metadata": {
        "id": "uDQPJLxH8QTF",
        "colab_type": "code",
        "outputId": "4f68679b-4042-4ce2-aa70-d8735b16101f",
        "colab": {
          "base_uri": "https://localhost:8080/",
          "height": 625
        }
      },
      "source": [
        "_, ax = plt.subplots(figsize=(12, 10))\n",
        "\n",
        "ax.scatter(p2ee_df.hurst, p2ee_df.enqueued, c='salmon', alpha=0.2)\n",
        "\n",
        "ax.set_title(\"Зависимость размера очереди от показателя Хёрста\")\n",
        "ax.set_xlabel(\"Показатель Хёрста входного потока $H$\")\n",
        "ax.set_ylabel(\"Размер очереди\")\n",
        "\n",
        "ax.grid(True)\n",
        "\n",
        "plt.show();"
      ],
      "execution_count": 14,
      "outputs": [
        {
          "output_type": "display_data",
          "data": {
            "image/png": "[encoded data removed]",
            "text/plain": [
              "<Figure size 864x720 with 1 Axes>"
            ]
          },
          "metadata": {
            "tags": [],
            "needs_background": "light"
          }
        }
      ]
    },
    {
      "cell_type": "markdown",
      "metadata": {
        "id": "IEBWjG7Z01_O",
        "colab_type": "text"
      },
      "source": [
        "Сгруппировать данные по показателю Херста"
      ]
    },
    {
      "cell_type": "code",
      "metadata": {
        "id": "gDoFJKW4obq1",
        "colab_type": "code",
        "colab": {}
      },
      "source": [
        "p2ee_grouped = p2ee_df.groupby('hurst')"
      ],
      "execution_count": 0,
      "outputs": []
    },
    {
      "cell_type": "markdown",
      "metadata": {
        "id": "fJsop98J5zNx",
        "colab_type": "text"
      },
      "source": [
        "Отобразить box-plot по заданным группам"
      ]
    },
    {
      "cell_type": "code",
      "metadata": {
        "id": "yC-dQD3m_BmJ",
        "colab_type": "code",
        "colab": {}
      },
      "source": [
        "hurst_set = set()\n",
        "enqueued = list()\n",
        "\n",
        "for group in p2ee_grouped:\n",
        "  hurst_set.add(group[0])\n",
        "  enqueued.append(group[1].enqueued.values)\n",
        "\n",
        "hurst = list(hurst_set)\n",
        "hurst.sort()"
      ],
      "execution_count": 0,
      "outputs": []
    },
    {
      "cell_type": "code",
      "metadata": {
        "id": "9eZ8Vb6Y1OV3",
        "colab_type": "code",
        "outputId": "3c714e36-07a2-449f-892c-be07ee1d4b5e",
        "colab": {
          "base_uri": "https://localhost:8080/",
          "height": 634
        }
      },
      "source": [
        "_, ax = plt.subplots(figsize=(12, 10))\n",
        "\n",
        "ax.boxplot(enqueued, \n",
        "           showmeans=True,\n",
        "           boxprops=dict(color='#0072b2', \n",
        "                         linewidth=0.6),\n",
        "           flierprops=dict(marker='.', \n",
        "                           markerfacecolor='#0072b2', \n",
        "                           markeredgecolor='#0072b2', \n",
        "                           markersize=0.8),\n",
        "           whiskerprops=dict(linestyle='-', \n",
        "                             color='#0072b2', \n",
        "                             linewidth=0.6),\n",
        "           capprops=dict(color='#0072b2', \n",
        "                         linewidth=0.6),\n",
        "           medianprops=dict(linewidth=0.6, \n",
        "                            color='#d55e00'))\n",
        "\n",
        "\n",
        "ax.set_title(\"Box-plot для каждой из групп исследований\")\n",
        "ax.set_xlabel(\"Показатель Херста входного потока $H$\")\n",
        "ax.set_ylabel(\"Размер очереди\")\n",
        "\n",
        "xtickNames = plt.setp(ax, xticklabels=hurst)\n",
        "plt.setp(xtickNames, rotation=45, fontsize=8)\n",
        "\n",
        "plt.show();"
      ],
      "execution_count": 17,
      "outputs": [
        {
          "output_type": "display_data",
          "data": {
            "image/png": "[encoded data removed]",
            "text/plain": [
              "<Figure size 864x720 with 1 Axes>"
            ]
          },
          "metadata": {
            "tags": [],
            "needs_background": "light"
          }
        }
      ]
    },
    {
      "cell_type": "markdown",
      "metadata": {
        "colab_type": "text",
        "id": "ZpyP3G0dSLH5"
      },
      "source": [
        "### Преобразование потока из распределение Парето в экспоненциальное распределение с использованием математического ожидания"
      ]
    },
    {
      "cell_type": "code",
      "metadata": {
        "colab_type": "code",
        "id": "e36tN7gkSTAw",
        "colab": {}
      },
      "source": [
        "p2em_db = drive.CreateFile({'id': p2em_id})\n",
        "p2em_db.GetContentFile('P2EM.db')"
      ],
      "execution_count": 0,
      "outputs": []
    },
    {
      "cell_type": "code",
      "metadata": {
        "colab_type": "code",
        "id": "kp8mL76DS0BI",
        "colab": {}
      },
      "source": [
        "p2em_conn = sqlite3.connect('P2EM.db')"
      ],
      "execution_count": 0,
      "outputs": []
    },
    {
      "cell_type": "markdown",
      "metadata": {
        "colab_type": "text",
        "id": "j5KQmrb9TBop"
      },
      "source": [
        "Получить данные о количестве пакетов в очереди в случае использования бесконечной очереди"
      ]
    },
    {
      "cell_type": "code",
      "metadata": {
        "colab_type": "code",
        "outputId": "4553f4fc-6b7d-4fd7-8c6b-81b4d940472a",
        "id": "E6LEao-GThVr",
        "colab": {
          "base_uri": "https://localhost:8080/",
          "height": 204
        }
      },
      "source": [
        "p2em_df = pd.read_sql_query(\n",
        "    \"\"\"\n",
        "    SELECT pareto.hurst, experiment.enqueued FROM model \n",
        "    INNER JOIN pareto ON model.id = pareto.model_id\n",
        "    INNER JOIN experiment ON model.id = experiment.model_id\n",
        "    WHERE population_size={} AND \n",
        "      queue_size=0 AND \n",
        "      arrivals_pattern_id={} AND\n",
        "      service_pattern_id={} AND\n",
        "      method_id={} AND\n",
        "      number_of_servers=1;\n",
        "    \"\"\".format(population_size, \n",
        "               patterns['Pareto'], patterns['Exponent'], \n",
        "               methods['Median']),\n",
        "    p2em_conn\n",
        ")\n",
        "\n",
        "p2em_df.head()"
      ],
      "execution_count": 20,
      "outputs": [
        {
          "output_type": "execute_result",
          "data": {
            "text/html": [
              "<div>\n",
              "<style scoped>\n",
              "    .dataframe tbody tr th:only-of-type {\n",
              "        vertical-align: middle;\n",
              "    }\n",
              "\n",
              "    .dataframe tbody tr th {\n",
              "        vertical-align: top;\n",
              "    }\n",
              "\n",
              "    .dataframe thead th {\n",
              "        text-align: right;\n",
              "    }\n",
              "</style>\n",
              "<table border=\"1\" class=\"dataframe\">\n",
              "  <thead>\n",
              "    <tr style=\"text-align: right;\">\n",
              "      <th></th>\n",
              "      <th>hurst</th>\n",
              "      <th>enqueued</th>\n",
              "    </tr>\n",
              "  </thead>\n",
              "  <tbody>\n",
              "    <tr>\n",
              "      <th>0</th>\n",
              "      <td>0.5</td>\n",
              "      <td>35</td>\n",
              "    </tr>\n",
              "    <tr>\n",
              "      <th>1</th>\n",
              "      <td>0.5</td>\n",
              "      <td>133</td>\n",
              "    </tr>\n",
              "    <tr>\n",
              "      <th>2</th>\n",
              "      <td>0.5</td>\n",
              "      <td>76</td>\n",
              "    </tr>\n",
              "    <tr>\n",
              "      <th>3</th>\n",
              "      <td>0.5</td>\n",
              "      <td>56</td>\n",
              "    </tr>\n",
              "    <tr>\n",
              "      <th>4</th>\n",
              "      <td>0.5</td>\n",
              "      <td>53</td>\n",
              "    </tr>\n",
              "  </tbody>\n",
              "</table>\n",
              "</div>"
            ],
            "text/plain": [
              "   hurst  enqueued\n",
              "0    0.5        35\n",
              "1    0.5       133\n",
              "2    0.5        76\n",
              "3    0.5        56\n",
              "4    0.5        53"
            ]
          },
          "metadata": {
            "tags": []
          },
          "execution_count": 20
        }
      ]
    },
    {
      "cell_type": "code",
      "metadata": {
        "id": "KIYY2MGSTnBi",
        "colab_type": "code",
        "colab": {}
      },
      "source": [
        "p2em_conn.close()"
      ],
      "execution_count": 0,
      "outputs": []
    },
    {
      "cell_type": "markdown",
      "metadata": {
        "colab_type": "text",
        "id": "xhl2U0wiUN6Y"
      },
      "source": [
        "Получить количество испытаний"
      ]
    },
    {
      "cell_type": "code",
      "metadata": {
        "id": "t4L2Q3HaUPUx",
        "colab_type": "code",
        "outputId": "6b5e4260-c58e-4660-9b77-616f9e79026c",
        "colab": {
          "base_uri": "https://localhost:8080/",
          "height": 34
        }
      },
      "source": [
        "p2em_df.shape"
      ],
      "execution_count": 22,
      "outputs": [
        {
          "output_type": "execute_result",
          "data": {
            "text/plain": [
              "(4869, 2)"
            ]
          },
          "metadata": {
            "tags": []
          },
          "execution_count": 22
        }
      ]
    },
    {
      "cell_type": "markdown",
      "metadata": {
        "colab_type": "text",
        "id": "QwN-kmCMUaYm"
      },
      "source": [
        "Отобразить облако точек"
      ]
    },
    {
      "cell_type": "code",
      "metadata": {
        "colab_type": "code",
        "outputId": "23d4bc1d-bf89-48fe-a571-7931c5efd13f",
        "id": "3h0HaeDxUfxo",
        "colab": {
          "base_uri": "https://localhost:8080/",
          "height": 625
        }
      },
      "source": [
        "_, ax = plt.subplots(figsize=(12, 10))\n",
        "\n",
        "ax.scatter(p2em_df.hurst, p2em_df.enqueued, c='darkgreen', alpha=0.2)\n",
        "\n",
        "ax.set_title(\"Зависимость размера очереди от показателя Хёрста\")\n",
        "ax.set_xlabel(\"Показатель Хёрста входного потока $H$\")\n",
        "ax.set_ylabel(\"Размер очереди\")\n",
        "\n",
        "ax.grid(True)\n",
        "\n",
        "plt.show();"
      ],
      "execution_count": 23,
      "outputs": [
        {
          "output_type": "display_data",
          "data": {
            "image/png": "[encoded data removed]",
            "text/plain": [
              "<Figure size 864x720 with 1 Axes>"
            ]
          },
          "metadata": {
            "tags": [],
            "needs_background": "light"
          }
        }
      ]
    },
    {
      "cell_type": "markdown",
      "metadata": {
        "colab_type": "text",
        "id": "_g_j7F8IVRfJ"
      },
      "source": [
        "Сгруппировать данные по показателю Херста"
      ]
    },
    {
      "cell_type": "code",
      "metadata": {
        "colab_type": "code",
        "id": "umCPra-8VWTl",
        "colab": {}
      },
      "source": [
        "p2em_grouped = p2em_df.groupby('hurst')"
      ],
      "execution_count": 0,
      "outputs": []
    },
    {
      "cell_type": "markdown",
      "metadata": {
        "colab_type": "text",
        "id": "vDNpfe31U67O"
      },
      "source": [
        "Отобразить box-plot по заданным группам"
      ]
    },
    {
      "cell_type": "code",
      "metadata": {
        "colab_type": "code",
        "id": "rC0tiLKIVGSf",
        "colab": {}
      },
      "source": [
        "hurst_set = set()\n",
        "enqueued = list()\n",
        "\n",
        "for group in p2em_grouped:\n",
        "  hurst_set.add(group[0])\n",
        "  enqueued.append(group[1].enqueued.values)\n",
        "\n",
        "hurst = list(hurst_set)\n",
        "hurst.sort()"
      ],
      "execution_count": 0,
      "outputs": []
    },
    {
      "cell_type": "code",
      "metadata": {
        "colab_type": "code",
        "outputId": "af2ccb30-9150-4a54-d329-56bc361570ce",
        "id": "pJuvIi0kVgDP",
        "colab": {
          "base_uri": "https://localhost:8080/",
          "height": 634
        }
      },
      "source": [
        "_, ax = plt.subplots(figsize=(12, 10))\n",
        "\n",
        "ax.boxplot(enqueued, \n",
        "           showmeans=True,\n",
        "           boxprops=dict(color='#0072b2', \n",
        "                         linewidth=0.6),\n",
        "           flierprops=dict(marker='.', \n",
        "                           markerfacecolor='#0072b2', \n",
        "                           markeredgecolor='#0072b2', \n",
        "                           markersize=0.8),\n",
        "           whiskerprops=dict(linestyle='-', \n",
        "                             color='#0072b2', \n",
        "                             linewidth=0.6),\n",
        "           capprops=dict(color='#0072b2', \n",
        "                         linewidth=0.6),\n",
        "           medianprops=dict(linewidth=0.6, \n",
        "                            color='#d55e00'))\n",
        "\n",
        "\n",
        "ax.set_title(\"Box-plot для каждой из групп исследований\")\n",
        "ax.set_xlabel(\"Показатель Херста входного потока $H$\")\n",
        "ax.set_ylabel(\"Размер очереди\")\n",
        "\n",
        "xtickNames = plt.setp(ax, xticklabels=hurst)\n",
        "plt.setp(xtickNames, rotation=45, fontsize=8)\n",
        "\n",
        "plt.show();"
      ],
      "execution_count": 26,
      "outputs": [
        {
          "output_type": "display_data",
          "data": {
            "image/png": "[encoded data removed]",
            "text/plain": [
              "<Figure size 864x720 with 1 Axes>"
            ]
          },
          "metadata": {
            "tags": [],
            "needs_background": "light"
          }
        }
      ]
    },
    {
      "cell_type": "markdown",
      "metadata": {
        "id": "h4a-mgw-Ttxo",
        "colab_type": "text"
      },
      "source": [
        "## Статистические характеристики размера очереди"
      ]
    },
    {
      "cell_type": "markdown",
      "metadata": {
        "id": "5mfLAKt2T4Ys",
        "colab_type": "text"
      },
      "source": [
        "### Математическое ожидание "
      ]
    },
    {
      "cell_type": "markdown",
      "metadata": {
        "id": "oB6SbV-fUE0K",
        "colab_type": "text"
      },
      "source": [
        "#### Преобразование с использованием математического ожидания"
      ]
    },
    {
      "cell_type": "markdown",
      "metadata": {
        "id": "kOow9u875ncI",
        "colab_type": "text"
      },
      "source": [
        "Получить математическое ожидание размера очереди"
      ]
    },
    {
      "cell_type": "code",
      "metadata": {
        "id": "6s5NBjEN5Bzv",
        "colab_type": "code",
        "colab": {}
      },
      "source": [
        "t = p2ee_grouped.mean()"
      ],
      "execution_count": 0,
      "outputs": []
    },
    {
      "cell_type": "markdown",
      "metadata": {
        "id": "gCyD5pPf5_ue",
        "colab_type": "text"
      },
      "source": [
        "Создать сводную таблицу для преобразования с использованием математического ожидания"
      ]
    },
    {
      "cell_type": "code",
      "metadata": {
        "id": "FcbrhKMy6NrA",
        "colab_type": "code",
        "colab": {}
      },
      "source": [
        "p2ee_stats = t.copy()"
      ],
      "execution_count": 0,
      "outputs": []
    },
    {
      "cell_type": "code",
      "metadata": {
        "id": "HUPmuDGS5980",
        "colab_type": "code",
        "colab": {}
      },
      "source": [
        "p2ee_stats.set_axis(['mean'], axis='columns', inplace=True)"
      ],
      "execution_count": 0,
      "outputs": []
    },
    {
      "cell_type": "markdown",
      "metadata": {
        "id": "hNFZxqbi75L-",
        "colab_type": "text"
      },
      "source": [
        "Отобразить сведения о математическом ожидании в таблице"
      ]
    },
    {
      "cell_type": "code",
      "metadata": {
        "id": "bhtN9z4QVtkX",
        "colab_type": "code",
        "outputId": "fc1c4e17-dc96-47db-91e8-59a1ec164377",
        "colab": {
          "base_uri": "https://localhost:8080/",
          "height": 359
        }
      },
      "source": [
        "get_compact_table(t)"
      ],
      "execution_count": 30,
      "outputs": [
        {
          "output_type": "execute_result",
          "data": {
            "text/html": [
              "<div>\n",
              "<style scoped>\n",
              "    .dataframe tbody tr th:only-of-type {\n",
              "        vertical-align: middle;\n",
              "    }\n",
              "\n",
              "    .dataframe tbody tr th {\n",
              "        vertical-align: top;\n",
              "    }\n",
              "\n",
              "    .dataframe thead th {\n",
              "        text-align: right;\n",
              "    }\n",
              "</style>\n",
              "<table border=\"1\" class=\"dataframe\">\n",
              "  <thead>\n",
              "    <tr style=\"text-align: right;\">\n",
              "      <th></th>\n",
              "      <th>0.5</th>\n",
              "      <th>0.6</th>\n",
              "      <th>0.7</th>\n",
              "      <th>0.8</th>\n",
              "      <th>0.9</th>\n",
              "    </tr>\n",
              "  </thead>\n",
              "  <tbody>\n",
              "    <tr>\n",
              "      <th>0.00</th>\n",
              "      <td>58.435642</td>\n",
              "      <td>72.714287</td>\n",
              "      <td>89.281250</td>\n",
              "      <td>135.408157</td>\n",
              "      <td>271.353546</td>\n",
              "    </tr>\n",
              "    <tr>\n",
              "      <th>0.01</th>\n",
              "      <td>60.380001</td>\n",
              "      <td>75.693878</td>\n",
              "      <td>100.104164</td>\n",
              "      <td>144.855667</td>\n",
              "      <td>296.140015</td>\n",
              "    </tr>\n",
              "    <tr>\n",
              "      <th>0.02</th>\n",
              "      <td>63.585857</td>\n",
              "      <td>73.371132</td>\n",
              "      <td>100.214287</td>\n",
              "      <td>154.639175</td>\n",
              "      <td>337.626251</td>\n",
              "    </tr>\n",
              "    <tr>\n",
              "      <th>0.03</th>\n",
              "      <td>60.061855</td>\n",
              "      <td>78.244896</td>\n",
              "      <td>97.360825</td>\n",
              "      <td>174.402069</td>\n",
              "      <td>380.814423</td>\n",
              "    </tr>\n",
              "    <tr>\n",
              "      <th>0.04</th>\n",
              "      <td>63.393940</td>\n",
              "      <td>82.354164</td>\n",
              "      <td>101.744896</td>\n",
              "      <td>180.193878</td>\n",
              "      <td>418.416656</td>\n",
              "    </tr>\n",
              "    <tr>\n",
              "      <th>0.05</th>\n",
              "      <td>62.696968</td>\n",
              "      <td>79.762886</td>\n",
              "      <td>115.551018</td>\n",
              "      <td>187.989899</td>\n",
              "      <td>474.197906</td>\n",
              "    </tr>\n",
              "    <tr>\n",
              "      <th>0.06</th>\n",
              "      <td>67.030304</td>\n",
              "      <td>80.969696</td>\n",
              "      <td>117.824745</td>\n",
              "      <td>219.484848</td>\n",
              "      <td>555.375000</td>\n",
              "    </tr>\n",
              "    <tr>\n",
              "      <th>0.07</th>\n",
              "      <td>64.234695</td>\n",
              "      <td>91.291664</td>\n",
              "      <td>120.346939</td>\n",
              "      <td>224.918365</td>\n",
              "      <td>609.093750</td>\n",
              "    </tr>\n",
              "    <tr>\n",
              "      <th>0.08</th>\n",
              "      <td>68.663269</td>\n",
              "      <td>95.222221</td>\n",
              "      <td>128.867340</td>\n",
              "      <td>239.000000</td>\n",
              "      <td>710.959167</td>\n",
              "    </tr>\n",
              "    <tr>\n",
              "      <th>0.09</th>\n",
              "      <td>68.540817</td>\n",
              "      <td>89.915787</td>\n",
              "      <td>136.424240</td>\n",
              "      <td>241.082474</td>\n",
              "      <td>840.604187</td>\n",
              "    </tr>\n",
              "  </tbody>\n",
              "</table>\n",
              "</div>"
            ],
            "text/plain": [
              "            0.5        0.6         0.7         0.8         0.9\n",
              "0.00  58.435642  72.714287   89.281250  135.408157  271.353546\n",
              "0.01  60.380001  75.693878  100.104164  144.855667  296.140015\n",
              "0.02  63.585857  73.371132  100.214287  154.639175  337.626251\n",
              "0.03  60.061855  78.244896   97.360825  174.402069  380.814423\n",
              "0.04  63.393940  82.354164  101.744896  180.193878  418.416656\n",
              "0.05  62.696968  79.762886  115.551018  187.989899  474.197906\n",
              "0.06  67.030304  80.969696  117.824745  219.484848  555.375000\n",
              "0.07  64.234695  91.291664  120.346939  224.918365  609.093750\n",
              "0.08  68.663269  95.222221  128.867340  239.000000  710.959167\n",
              "0.09  68.540817  89.915787  136.424240  241.082474  840.604187"
            ]
          },
          "metadata": {
            "tags": []
          },
          "execution_count": 30
        }
      ]
    },
    {
      "cell_type": "markdown",
      "metadata": {
        "id": "riJVIJ5aUTYY",
        "colab_type": "text"
      },
      "source": [
        "#### Преобразование с использованием медианы"
      ]
    },
    {
      "cell_type": "markdown",
      "metadata": {
        "colab_type": "text",
        "id": "E29e1B8b-HKK"
      },
      "source": [
        "Получить математическое ожидание размера очереди"
      ]
    },
    {
      "cell_type": "code",
      "metadata": {
        "colab_type": "code",
        "id": "VfoNB-bq-B82",
        "colab": {}
      },
      "source": [
        "t = p2em_grouped.mean()"
      ],
      "execution_count": 0,
      "outputs": []
    },
    {
      "cell_type": "markdown",
      "metadata": {
        "colab_type": "text",
        "id": "Cs3c68qI-NHP"
      },
      "source": [
        "Создать сводную таблицу для преобразования с использованием математического ожидания"
      ]
    },
    {
      "cell_type": "code",
      "metadata": {
        "colab_type": "code",
        "id": "z9ji1EQS-Vdm",
        "colab": {}
      },
      "source": [
        "p2em_stats = t.copy()"
      ],
      "execution_count": 0,
      "outputs": []
    },
    {
      "cell_type": "code",
      "metadata": {
        "colab_type": "code",
        "id": "CFKE2cK9-i1u",
        "colab": {}
      },
      "source": [
        "p2em_stats.set_axis(['mean'], axis='columns', inplace=True)"
      ],
      "execution_count": 0,
      "outputs": []
    },
    {
      "cell_type": "markdown",
      "metadata": {
        "colab_type": "text",
        "id": "pGXaWB65-rKG"
      },
      "source": [
        "Отобразить сведения о математическом ожидании в таблице"
      ]
    },
    {
      "cell_type": "code",
      "metadata": {
        "id": "UzwRGoMKqFNU",
        "colab_type": "code",
        "outputId": "eed3909d-5b87-478c-ed83-9ced050c91e3",
        "colab": {
          "base_uri": "https://localhost:8080/",
          "height": 359
        }
      },
      "source": [
        "get_compact_table(t)"
      ],
      "execution_count": 34,
      "outputs": [
        {
          "output_type": "execute_result",
          "data": {
            "text/html": [
              "<div>\n",
              "<style scoped>\n",
              "    .dataframe tbody tr th:only-of-type {\n",
              "        vertical-align: middle;\n",
              "    }\n",
              "\n",
              "    .dataframe tbody tr th {\n",
              "        vertical-align: top;\n",
              "    }\n",
              "\n",
              "    .dataframe thead th {\n",
              "        text-align: right;\n",
              "    }\n",
              "</style>\n",
              "<table border=\"1\" class=\"dataframe\">\n",
              "  <thead>\n",
              "    <tr style=\"text-align: right;\">\n",
              "      <th></th>\n",
              "      <th>0.5</th>\n",
              "      <th>0.6</th>\n",
              "      <th>0.7</th>\n",
              "      <th>0.8</th>\n",
              "      <th>0.9</th>\n",
              "    </tr>\n",
              "  </thead>\n",
              "  <tbody>\n",
              "    <tr>\n",
              "      <th>0.00</th>\n",
              "      <td>73.385414</td>\n",
              "      <td>46.326530</td>\n",
              "      <td>33.757576</td>\n",
              "      <td>25.747475</td>\n",
              "      <td>21.629999</td>\n",
              "    </tr>\n",
              "    <tr>\n",
              "      <th>0.01</th>\n",
              "      <td>64.208336</td>\n",
              "      <td>49.234695</td>\n",
              "      <td>33.285713</td>\n",
              "      <td>24.787878</td>\n",
              "      <td>21.320000</td>\n",
              "    </tr>\n",
              "    <tr>\n",
              "      <th>0.02</th>\n",
              "      <td>67.927086</td>\n",
              "      <td>43.562500</td>\n",
              "      <td>33.835052</td>\n",
              "      <td>24.510870</td>\n",
              "      <td>20.561224</td>\n",
              "    </tr>\n",
              "    <tr>\n",
              "      <th>0.03</th>\n",
              "      <td>58.631580</td>\n",
              "      <td>41.536842</td>\n",
              "      <td>31.687500</td>\n",
              "      <td>23.919191</td>\n",
              "      <td>19.591837</td>\n",
              "    </tr>\n",
              "    <tr>\n",
              "      <th>0.04</th>\n",
              "      <td>56.187500</td>\n",
              "      <td>42.082474</td>\n",
              "      <td>30.593750</td>\n",
              "      <td>24.071428</td>\n",
              "      <td>19.270000</td>\n",
              "    </tr>\n",
              "    <tr>\n",
              "      <th>0.05</th>\n",
              "      <td>60.053192</td>\n",
              "      <td>40.852631</td>\n",
              "      <td>28.778948</td>\n",
              "      <td>22.714285</td>\n",
              "      <td>18.979591</td>\n",
              "    </tr>\n",
              "    <tr>\n",
              "      <th>0.06</th>\n",
              "      <td>53.083332</td>\n",
              "      <td>38.402061</td>\n",
              "      <td>27.686869</td>\n",
              "      <td>23.357143</td>\n",
              "      <td>18.709999</td>\n",
              "    </tr>\n",
              "    <tr>\n",
              "      <th>0.07</th>\n",
              "      <td>50.599998</td>\n",
              "      <td>36.622448</td>\n",
              "      <td>27.775511</td>\n",
              "      <td>22.919191</td>\n",
              "      <td>19.438776</td>\n",
              "    </tr>\n",
              "    <tr>\n",
              "      <th>0.08</th>\n",
              "      <td>53.136841</td>\n",
              "      <td>35.765305</td>\n",
              "      <td>26.721649</td>\n",
              "      <td>21.659794</td>\n",
              "      <td>17.808081</td>\n",
              "    </tr>\n",
              "    <tr>\n",
              "      <th>0.09</th>\n",
              "      <td>50.257732</td>\n",
              "      <td>35.320000</td>\n",
              "      <td>26.731958</td>\n",
              "      <td>21.606060</td>\n",
              "      <td>17.530001</td>\n",
              "    </tr>\n",
              "  </tbody>\n",
              "</table>\n",
              "</div>"
            ],
            "text/plain": [
              "            0.5        0.6        0.7        0.8        0.9\n",
              "0.00  73.385414  46.326530  33.757576  25.747475  21.629999\n",
              "0.01  64.208336  49.234695  33.285713  24.787878  21.320000\n",
              "0.02  67.927086  43.562500  33.835052  24.510870  20.561224\n",
              "0.03  58.631580  41.536842  31.687500  23.919191  19.591837\n",
              "0.04  56.187500  42.082474  30.593750  24.071428  19.270000\n",
              "0.05  60.053192  40.852631  28.778948  22.714285  18.979591\n",
              "0.06  53.083332  38.402061  27.686869  23.357143  18.709999\n",
              "0.07  50.599998  36.622448  27.775511  22.919191  19.438776\n",
              "0.08  53.136841  35.765305  26.721649  21.659794  17.808081\n",
              "0.09  50.257732  35.320000  26.731958  21.606060  17.530001"
            ]
          },
          "metadata": {
            "tags": []
          },
          "execution_count": 34
        }
      ]
    },
    {
      "cell_type": "markdown",
      "metadata": {
        "colab_type": "text",
        "id": "P6mlHp6JUlLR"
      },
      "source": [
        "### Среднеквадратическое отклонение"
      ]
    },
    {
      "cell_type": "markdown",
      "metadata": {
        "colab_type": "text",
        "id": "2ljoMg21U8dI"
      },
      "source": [
        "#### Преобразование с использованием математического ожидания"
      ]
    },
    {
      "cell_type": "markdown",
      "metadata": {
        "colab_type": "text",
        "id": "3JHJ6UgT_SyF"
      },
      "source": [
        "Получить среднеквадратическое отклонение размера очереди"
      ]
    },
    {
      "cell_type": "code",
      "metadata": {
        "id": "r2C9G4wG_iVy",
        "colab_type": "code",
        "colab": {}
      },
      "source": [
        "t = p2ee_grouped.std()"
      ],
      "execution_count": 0,
      "outputs": []
    },
    {
      "cell_type": "markdown",
      "metadata": {
        "id": "JvwfWUmt_x6S",
        "colab_type": "text"
      },
      "source": [
        "Добавть сведения о среднеквадратическом отклонении в сводную таблицу"
      ]
    },
    {
      "cell_type": "code",
      "metadata": {
        "colab_type": "code",
        "id": "NvTxQ57vAFg9",
        "colab": {}
      },
      "source": [
        "p2ee_stats['std'] = t['enqueued']"
      ],
      "execution_count": 0,
      "outputs": []
    },
    {
      "cell_type": "markdown",
      "metadata": {
        "colab_type": "text",
        "id": "6V8qIIXOAp2L"
      },
      "source": [
        "Отобразить сведения о среднеквадратическом отклонении в таблице"
      ]
    },
    {
      "cell_type": "code",
      "metadata": {
        "colab_type": "code",
        "outputId": "1c99fca3-81b3-40eb-eb26-e63a8bd143dd",
        "id": "1_srZEUCVB_J",
        "colab": {
          "base_uri": "https://localhost:8080/",
          "height": 359
        }
      },
      "source": [
        "get_compact_table(t)"
      ],
      "execution_count": 37,
      "outputs": [
        {
          "output_type": "execute_result",
          "data": {
            "text/html": [
              "<div>\n",
              "<style scoped>\n",
              "    .dataframe tbody tr th:only-of-type {\n",
              "        vertical-align: middle;\n",
              "    }\n",
              "\n",
              "    .dataframe tbody tr th {\n",
              "        vertical-align: top;\n",
              "    }\n",
              "\n",
              "    .dataframe thead th {\n",
              "        text-align: right;\n",
              "    }\n",
              "</style>\n",
              "<table border=\"1\" class=\"dataframe\">\n",
              "  <thead>\n",
              "    <tr style=\"text-align: right;\">\n",
              "      <th></th>\n",
              "      <th>0.5</th>\n",
              "      <th>0.6</th>\n",
              "      <th>0.7</th>\n",
              "      <th>0.8</th>\n",
              "      <th>0.9</th>\n",
              "    </tr>\n",
              "  </thead>\n",
              "  <tbody>\n",
              "    <tr>\n",
              "      <th>0.00</th>\n",
              "      <td>21.387573</td>\n",
              "      <td>27.211277</td>\n",
              "      <td>30.101828</td>\n",
              "      <td>42.897827</td>\n",
              "      <td>69.436844</td>\n",
              "    </tr>\n",
              "    <tr>\n",
              "      <th>0.01</th>\n",
              "      <td>23.602251</td>\n",
              "      <td>29.059629</td>\n",
              "      <td>36.715256</td>\n",
              "      <td>52.985844</td>\n",
              "      <td>82.676323</td>\n",
              "    </tr>\n",
              "    <tr>\n",
              "      <th>0.02</th>\n",
              "      <td>23.618139</td>\n",
              "      <td>25.839779</td>\n",
              "      <td>37.906898</td>\n",
              "      <td>45.631035</td>\n",
              "      <td>89.660080</td>\n",
              "    </tr>\n",
              "    <tr>\n",
              "      <th>0.03</th>\n",
              "      <td>25.399645</td>\n",
              "      <td>27.859760</td>\n",
              "      <td>34.750057</td>\n",
              "      <td>52.987156</td>\n",
              "      <td>96.452423</td>\n",
              "    </tr>\n",
              "    <tr>\n",
              "      <th>0.04</th>\n",
              "      <td>24.669579</td>\n",
              "      <td>35.300507</td>\n",
              "      <td>38.039673</td>\n",
              "      <td>54.207439</td>\n",
              "      <td>93.817032</td>\n",
              "    </tr>\n",
              "    <tr>\n",
              "      <th>0.05</th>\n",
              "      <td>25.248341</td>\n",
              "      <td>31.367371</td>\n",
              "      <td>43.212524</td>\n",
              "      <td>62.102531</td>\n",
              "      <td>103.984978</td>\n",
              "    </tr>\n",
              "    <tr>\n",
              "      <th>0.06</th>\n",
              "      <td>25.819410</td>\n",
              "      <td>28.619408</td>\n",
              "      <td>41.541145</td>\n",
              "      <td>58.651749</td>\n",
              "      <td>88.416862</td>\n",
              "    </tr>\n",
              "    <tr>\n",
              "      <th>0.07</th>\n",
              "      <td>25.477623</td>\n",
              "      <td>36.182262</td>\n",
              "      <td>43.590904</td>\n",
              "      <td>66.047577</td>\n",
              "      <td>100.336807</td>\n",
              "    </tr>\n",
              "    <tr>\n",
              "      <th>0.08</th>\n",
              "      <td>27.068048</td>\n",
              "      <td>34.750584</td>\n",
              "      <td>48.592274</td>\n",
              "      <td>84.276909</td>\n",
              "      <td>90.908806</td>\n",
              "    </tr>\n",
              "    <tr>\n",
              "      <th>0.09</th>\n",
              "      <td>29.629732</td>\n",
              "      <td>30.608253</td>\n",
              "      <td>50.925934</td>\n",
              "      <td>75.311531</td>\n",
              "      <td>87.660530</td>\n",
              "    </tr>\n",
              "  </tbody>\n",
              "</table>\n",
              "</div>"
            ],
            "text/plain": [
              "            0.5        0.6        0.7        0.8         0.9\n",
              "0.00  21.387573  27.211277  30.101828  42.897827   69.436844\n",
              "0.01  23.602251  29.059629  36.715256  52.985844   82.676323\n",
              "0.02  23.618139  25.839779  37.906898  45.631035   89.660080\n",
              "0.03  25.399645  27.859760  34.750057  52.987156   96.452423\n",
              "0.04  24.669579  35.300507  38.039673  54.207439   93.817032\n",
              "0.05  25.248341  31.367371  43.212524  62.102531  103.984978\n",
              "0.06  25.819410  28.619408  41.541145  58.651749   88.416862\n",
              "0.07  25.477623  36.182262  43.590904  66.047577  100.336807\n",
              "0.08  27.068048  34.750584  48.592274  84.276909   90.908806\n",
              "0.09  29.629732  30.608253  50.925934  75.311531   87.660530"
            ]
          },
          "metadata": {
            "tags": []
          },
          "execution_count": 37
        }
      ]
    },
    {
      "cell_type": "markdown",
      "metadata": {
        "colab_type": "text",
        "id": "EI5dDSycVIrh"
      },
      "source": [
        "#### Преобразование с использованием медианы"
      ]
    },
    {
      "cell_type": "markdown",
      "metadata": {
        "colab_type": "text",
        "id": "8QE5ZqIGCJ4a"
      },
      "source": [
        "Получить среднеквадратическое отклонение размера очереди"
      ]
    },
    {
      "cell_type": "code",
      "metadata": {
        "colab_type": "code",
        "id": "d3-2JDiYCJ4f",
        "colab": {}
      },
      "source": [
        "t = p2em_grouped.std()"
      ],
      "execution_count": 0,
      "outputs": []
    },
    {
      "cell_type": "markdown",
      "metadata": {
        "colab_type": "text",
        "id": "a5iY4jesCJ4j"
      },
      "source": [
        "Добавть сведения о среднеквадратическом отклонении в сводную таблицу"
      ]
    },
    {
      "cell_type": "code",
      "metadata": {
        "colab_type": "code",
        "id": "JrOdkyR2CJ4k",
        "colab": {}
      },
      "source": [
        "p2em_stats['std'] = t['enqueued']"
      ],
      "execution_count": 0,
      "outputs": []
    },
    {
      "cell_type": "markdown",
      "metadata": {
        "colab_type": "text",
        "id": "WRI6uBK5CJ4n"
      },
      "source": [
        "Отобразить сведения о среднеквадратическом отклонении в таблице"
      ]
    },
    {
      "cell_type": "code",
      "metadata": {
        "colab_type": "code",
        "outputId": "2f89400b-6344-4222-93ec-0cac3656d18d",
        "id": "E75TWoBKVPRh",
        "colab": {
          "base_uri": "https://localhost:8080/",
          "height": 359
        }
      },
      "source": [
        "get_compact_table(t)"
      ],
      "execution_count": 40,
      "outputs": [
        {
          "output_type": "execute_result",
          "data": {
            "text/html": [
              "<div>\n",
              "<style scoped>\n",
              "    .dataframe tbody tr th:only-of-type {\n",
              "        vertical-align: middle;\n",
              "    }\n",
              "\n",
              "    .dataframe tbody tr th {\n",
              "        vertical-align: top;\n",
              "    }\n",
              "\n",
              "    .dataframe thead th {\n",
              "        text-align: right;\n",
              "    }\n",
              "</style>\n",
              "<table border=\"1\" class=\"dataframe\">\n",
              "  <thead>\n",
              "    <tr style=\"text-align: right;\">\n",
              "      <th></th>\n",
              "      <th>0.5</th>\n",
              "      <th>0.6</th>\n",
              "      <th>0.7</th>\n",
              "      <th>0.8</th>\n",
              "      <th>0.9</th>\n",
              "    </tr>\n",
              "  </thead>\n",
              "  <tbody>\n",
              "    <tr>\n",
              "      <th>0.00</th>\n",
              "      <td>27.832344</td>\n",
              "      <td>18.380163</td>\n",
              "      <td>13.406586</td>\n",
              "      <td>8.081654</td>\n",
              "      <td>5.066537</td>\n",
              "    </tr>\n",
              "    <tr>\n",
              "      <th>0.01</th>\n",
              "      <td>24.464762</td>\n",
              "      <td>17.122843</td>\n",
              "      <td>11.775390</td>\n",
              "      <td>7.373799</td>\n",
              "      <td>5.789018</td>\n",
              "    </tr>\n",
              "    <tr>\n",
              "      <th>0.02</th>\n",
              "      <td>25.519958</td>\n",
              "      <td>17.831263</td>\n",
              "      <td>11.289450</td>\n",
              "      <td>6.982702</td>\n",
              "      <td>5.207184</td>\n",
              "    </tr>\n",
              "    <tr>\n",
              "      <th>0.03</th>\n",
              "      <td>22.283022</td>\n",
              "      <td>12.657359</td>\n",
              "      <td>10.069561</td>\n",
              "      <td>7.053262</td>\n",
              "      <td>4.350226</td>\n",
              "    </tr>\n",
              "    <tr>\n",
              "      <th>0.04</th>\n",
              "      <td>23.403694</td>\n",
              "      <td>16.634346</td>\n",
              "      <td>8.922565</td>\n",
              "      <td>6.724704</td>\n",
              "      <td>4.861423</td>\n",
              "    </tr>\n",
              "    <tr>\n",
              "      <th>0.05</th>\n",
              "      <td>19.917231</td>\n",
              "      <td>15.550856</td>\n",
              "      <td>8.863238</td>\n",
              "      <td>5.464034</td>\n",
              "      <td>3.994789</td>\n",
              "    </tr>\n",
              "    <tr>\n",
              "      <th>0.06</th>\n",
              "      <td>22.145294</td>\n",
              "      <td>12.953169</td>\n",
              "      <td>7.383996</td>\n",
              "      <td>6.663100</td>\n",
              "      <td>4.288333</td>\n",
              "    </tr>\n",
              "    <tr>\n",
              "      <th>0.07</th>\n",
              "      <td>20.257071</td>\n",
              "      <td>11.491382</td>\n",
              "      <td>8.347517</td>\n",
              "      <td>6.125685</td>\n",
              "      <td>4.903326</td>\n",
              "    </tr>\n",
              "    <tr>\n",
              "      <th>0.08</th>\n",
              "      <td>23.686161</td>\n",
              "      <td>12.074341</td>\n",
              "      <td>7.342431</td>\n",
              "      <td>5.625253</td>\n",
              "      <td>4.270632</td>\n",
              "    </tr>\n",
              "    <tr>\n",
              "      <th>0.09</th>\n",
              "      <td>20.434998</td>\n",
              "      <td>12.928616</td>\n",
              "      <td>6.425074</td>\n",
              "      <td>5.605788</td>\n",
              "      <td>4.420921</td>\n",
              "    </tr>\n",
              "  </tbody>\n",
              "</table>\n",
              "</div>"
            ],
            "text/plain": [
              "            0.5        0.6        0.7       0.8       0.9\n",
              "0.00  27.832344  18.380163  13.406586  8.081654  5.066537\n",
              "0.01  24.464762  17.122843  11.775390  7.373799  5.789018\n",
              "0.02  25.519958  17.831263  11.289450  6.982702  5.207184\n",
              "0.03  22.283022  12.657359  10.069561  7.053262  4.350226\n",
              "0.04  23.403694  16.634346   8.922565  6.724704  4.861423\n",
              "0.05  19.917231  15.550856   8.863238  5.464034  3.994789\n",
              "0.06  22.145294  12.953169   7.383996  6.663100  4.288333\n",
              "0.07  20.257071  11.491382   8.347517  6.125685  4.903326\n",
              "0.08  23.686161  12.074341   7.342431  5.625253  4.270632\n",
              "0.09  20.434998  12.928616   6.425074  5.605788  4.420921"
            ]
          },
          "metadata": {
            "tags": []
          },
          "execution_count": 40
        }
      ]
    },
    {
      "cell_type": "markdown",
      "metadata": {
        "colab_type": "text",
        "id": "4D0LflYgVa1Q"
      },
      "source": [
        "### Медиана"
      ]
    },
    {
      "cell_type": "markdown",
      "metadata": {
        "colab_type": "text",
        "id": "PZeNOSp1VjDx"
      },
      "source": [
        "#### Преобразование с использованием математического ожидания"
      ]
    },
    {
      "cell_type": "markdown",
      "metadata": {
        "colab_type": "text",
        "id": "_DOOs5gsChQv"
      },
      "source": [
        "Получить медиану размера очереди"
      ]
    },
    {
      "cell_type": "code",
      "metadata": {
        "colab_type": "code",
        "id": "nkZ8m7uQChQy",
        "colab": {}
      },
      "source": [
        "t = p2ee_grouped.median()"
      ],
      "execution_count": 0,
      "outputs": []
    },
    {
      "cell_type": "markdown",
      "metadata": {
        "colab_type": "text",
        "id": "Gf3PQ8pDChQ3"
      },
      "source": [
        "Добавть сведения о медиане в сводную таблицу"
      ]
    },
    {
      "cell_type": "code",
      "metadata": {
        "colab_type": "code",
        "id": "Ww7FCOICChQ4",
        "colab": {}
      },
      "source": [
        "p2ee_stats['median'] = t['enqueued']"
      ],
      "execution_count": 0,
      "outputs": []
    },
    {
      "cell_type": "markdown",
      "metadata": {
        "colab_type": "text",
        "id": "NKmP6SEfChQ9"
      },
      "source": [
        "Отобразить сведения о медиане в таблице"
      ]
    },
    {
      "cell_type": "code",
      "metadata": {
        "colab_type": "code",
        "outputId": "224a231a-045d-46a1-83d2-f73ffe68fe99",
        "id": "J8L73KNsVm3W",
        "colab": {
          "base_uri": "https://localhost:8080/",
          "height": 359
        }
      },
      "source": [
        "get_compact_table(t)"
      ],
      "execution_count": 43,
      "outputs": [
        {
          "output_type": "execute_result",
          "data": {
            "text/html": [
              "<div>\n",
              "<style scoped>\n",
              "    .dataframe tbody tr th:only-of-type {\n",
              "        vertical-align: middle;\n",
              "    }\n",
              "\n",
              "    .dataframe tbody tr th {\n",
              "        vertical-align: top;\n",
              "    }\n",
              "\n",
              "    .dataframe thead th {\n",
              "        text-align: right;\n",
              "    }\n",
              "</style>\n",
              "<table border=\"1\" class=\"dataframe\">\n",
              "  <thead>\n",
              "    <tr style=\"text-align: right;\">\n",
              "      <th></th>\n",
              "      <th>0.5</th>\n",
              "      <th>0.6</th>\n",
              "      <th>0.7</th>\n",
              "      <th>0.8</th>\n",
              "      <th>0.9</th>\n",
              "    </tr>\n",
              "  </thead>\n",
              "  <tbody>\n",
              "    <tr>\n",
              "      <th>0.00</th>\n",
              "      <td>52.0</td>\n",
              "      <td>69.0</td>\n",
              "      <td>84.0</td>\n",
              "      <td>131.5</td>\n",
              "      <td>266.0</td>\n",
              "    </tr>\n",
              "    <tr>\n",
              "      <th>0.01</th>\n",
              "      <td>53.0</td>\n",
              "      <td>73.5</td>\n",
              "      <td>92.0</td>\n",
              "      <td>141.0</td>\n",
              "      <td>296.5</td>\n",
              "    </tr>\n",
              "    <tr>\n",
              "      <th>0.02</th>\n",
              "      <td>61.0</td>\n",
              "      <td>70.0</td>\n",
              "      <td>98.0</td>\n",
              "      <td>154.0</td>\n",
              "      <td>335.0</td>\n",
              "    </tr>\n",
              "    <tr>\n",
              "      <th>0.03</th>\n",
              "      <td>53.0</td>\n",
              "      <td>75.5</td>\n",
              "      <td>86.0</td>\n",
              "      <td>180.0</td>\n",
              "      <td>394.0</td>\n",
              "    </tr>\n",
              "    <tr>\n",
              "      <th>0.04</th>\n",
              "      <td>63.0</td>\n",
              "      <td>75.0</td>\n",
              "      <td>94.5</td>\n",
              "      <td>177.0</td>\n",
              "      <td>430.5</td>\n",
              "    </tr>\n",
              "    <tr>\n",
              "      <th>0.05</th>\n",
              "      <td>58.0</td>\n",
              "      <td>77.0</td>\n",
              "      <td>111.5</td>\n",
              "      <td>185.0</td>\n",
              "      <td>494.0</td>\n",
              "    </tr>\n",
              "    <tr>\n",
              "      <th>0.06</th>\n",
              "      <td>61.0</td>\n",
              "      <td>73.0</td>\n",
              "      <td>111.0</td>\n",
              "      <td>221.0</td>\n",
              "      <td>561.0</td>\n",
              "    </tr>\n",
              "    <tr>\n",
              "      <th>0.07</th>\n",
              "      <td>59.5</td>\n",
              "      <td>86.0</td>\n",
              "      <td>112.0</td>\n",
              "      <td>220.5</td>\n",
              "      <td>635.0</td>\n",
              "    </tr>\n",
              "    <tr>\n",
              "      <th>0.08</th>\n",
              "      <td>64.0</td>\n",
              "      <td>94.0</td>\n",
              "      <td>118.5</td>\n",
              "      <td>241.0</td>\n",
              "      <td>735.0</td>\n",
              "    </tr>\n",
              "    <tr>\n",
              "      <th>0.09</th>\n",
              "      <td>64.5</td>\n",
              "      <td>85.0</td>\n",
              "      <td>132.0</td>\n",
              "      <td>234.0</td>\n",
              "      <td>865.5</td>\n",
              "    </tr>\n",
              "  </tbody>\n",
              "</table>\n",
              "</div>"
            ],
            "text/plain": [
              "       0.5   0.6    0.7    0.8    0.9\n",
              "0.00  52.0  69.0   84.0  131.5  266.0\n",
              "0.01  53.0  73.5   92.0  141.0  296.5\n",
              "0.02  61.0  70.0   98.0  154.0  335.0\n",
              "0.03  53.0  75.5   86.0  180.0  394.0\n",
              "0.04  63.0  75.0   94.5  177.0  430.5\n",
              "0.05  58.0  77.0  111.5  185.0  494.0\n",
              "0.06  61.0  73.0  111.0  221.0  561.0\n",
              "0.07  59.5  86.0  112.0  220.5  635.0\n",
              "0.08  64.0  94.0  118.5  241.0  735.0\n",
              "0.09  64.5  85.0  132.0  234.0  865.5"
            ]
          },
          "metadata": {
            "tags": []
          },
          "execution_count": 43
        }
      ]
    },
    {
      "cell_type": "markdown",
      "metadata": {
        "colab_type": "text",
        "id": "PR2qxJwxV2SD"
      },
      "source": [
        "#### Преобразование с использованием медианы"
      ]
    },
    {
      "cell_type": "markdown",
      "metadata": {
        "colab_type": "text",
        "id": "qYsVf8J-DI3P"
      },
      "source": [
        "Получить медиану размера очереди"
      ]
    },
    {
      "cell_type": "code",
      "metadata": {
        "colab_type": "code",
        "id": "YCj6qfngDI3S",
        "colab": {}
      },
      "source": [
        "t = p2em_grouped.median()"
      ],
      "execution_count": 0,
      "outputs": []
    },
    {
      "cell_type": "markdown",
      "metadata": {
        "colab_type": "text",
        "id": "WY_2S6ekDI3W"
      },
      "source": [
        "Добавть сведения о медиане в сводную таблицу"
      ]
    },
    {
      "cell_type": "code",
      "metadata": {
        "colab_type": "code",
        "id": "NBOIqOHEDI3X",
        "colab": {}
      },
      "source": [
        "p2em_stats['median'] = t['enqueued']"
      ],
      "execution_count": 0,
      "outputs": []
    },
    {
      "cell_type": "markdown",
      "metadata": {
        "colab_type": "text",
        "id": "03JdMnoeDI3b"
      },
      "source": [
        "Отобразить сведения о медиане в таблице"
      ]
    },
    {
      "cell_type": "code",
      "metadata": {
        "colab_type": "code",
        "outputId": "62245af0-660e-40f5-bc73-993993cba413",
        "id": "oHIt1Xr2V6f9",
        "colab": {
          "base_uri": "https://localhost:8080/",
          "height": 359
        }
      },
      "source": [
        "get_compact_table(t)"
      ],
      "execution_count": 46,
      "outputs": [
        {
          "output_type": "execute_result",
          "data": {
            "text/html": [
              "<div>\n",
              "<style scoped>\n",
              "    .dataframe tbody tr th:only-of-type {\n",
              "        vertical-align: middle;\n",
              "    }\n",
              "\n",
              "    .dataframe tbody tr th {\n",
              "        vertical-align: top;\n",
              "    }\n",
              "\n",
              "    .dataframe thead th {\n",
              "        text-align: right;\n",
              "    }\n",
              "</style>\n",
              "<table border=\"1\" class=\"dataframe\">\n",
              "  <thead>\n",
              "    <tr style=\"text-align: right;\">\n",
              "      <th></th>\n",
              "      <th>0.5</th>\n",
              "      <th>0.6</th>\n",
              "      <th>0.7</th>\n",
              "      <th>0.8</th>\n",
              "      <th>0.9</th>\n",
              "    </tr>\n",
              "  </thead>\n",
              "  <tbody>\n",
              "    <tr>\n",
              "      <th>0.00</th>\n",
              "      <td>71.0</td>\n",
              "      <td>42.0</td>\n",
              "      <td>30.0</td>\n",
              "      <td>24.0</td>\n",
              "      <td>21.0</td>\n",
              "    </tr>\n",
              "    <tr>\n",
              "      <th>0.01</th>\n",
              "      <td>60.5</td>\n",
              "      <td>46.0</td>\n",
              "      <td>30.5</td>\n",
              "      <td>23.0</td>\n",
              "      <td>20.0</td>\n",
              "    </tr>\n",
              "    <tr>\n",
              "      <th>0.02</th>\n",
              "      <td>66.0</td>\n",
              "      <td>40.0</td>\n",
              "      <td>32.0</td>\n",
              "      <td>23.0</td>\n",
              "      <td>20.0</td>\n",
              "    </tr>\n",
              "    <tr>\n",
              "      <th>0.03</th>\n",
              "      <td>57.0</td>\n",
              "      <td>39.0</td>\n",
              "      <td>29.5</td>\n",
              "      <td>22.0</td>\n",
              "      <td>19.0</td>\n",
              "    </tr>\n",
              "    <tr>\n",
              "      <th>0.04</th>\n",
              "      <td>51.0</td>\n",
              "      <td>37.0</td>\n",
              "      <td>28.0</td>\n",
              "      <td>23.0</td>\n",
              "      <td>18.5</td>\n",
              "    </tr>\n",
              "    <tr>\n",
              "      <th>0.05</th>\n",
              "      <td>58.0</td>\n",
              "      <td>37.0</td>\n",
              "      <td>27.0</td>\n",
              "      <td>22.0</td>\n",
              "      <td>18.0</td>\n",
              "    </tr>\n",
              "    <tr>\n",
              "      <th>0.06</th>\n",
              "      <td>45.5</td>\n",
              "      <td>36.0</td>\n",
              "      <td>26.0</td>\n",
              "      <td>23.0</td>\n",
              "      <td>18.5</td>\n",
              "    </tr>\n",
              "    <tr>\n",
              "      <th>0.07</th>\n",
              "      <td>46.0</td>\n",
              "      <td>35.5</td>\n",
              "      <td>26.0</td>\n",
              "      <td>21.0</td>\n",
              "      <td>19.0</td>\n",
              "    </tr>\n",
              "    <tr>\n",
              "      <th>0.08</th>\n",
              "      <td>47.0</td>\n",
              "      <td>33.5</td>\n",
              "      <td>26.0</td>\n",
              "      <td>21.0</td>\n",
              "      <td>17.0</td>\n",
              "    </tr>\n",
              "    <tr>\n",
              "      <th>0.09</th>\n",
              "      <td>45.0</td>\n",
              "      <td>32.0</td>\n",
              "      <td>26.0</td>\n",
              "      <td>21.0</td>\n",
              "      <td>17.0</td>\n",
              "    </tr>\n",
              "  </tbody>\n",
              "</table>\n",
              "</div>"
            ],
            "text/plain": [
              "       0.5   0.6   0.7   0.8   0.9\n",
              "0.00  71.0  42.0  30.0  24.0  21.0\n",
              "0.01  60.5  46.0  30.5  23.0  20.0\n",
              "0.02  66.0  40.0  32.0  23.0  20.0\n",
              "0.03  57.0  39.0  29.5  22.0  19.0\n",
              "0.04  51.0  37.0  28.0  23.0  18.5\n",
              "0.05  58.0  37.0  27.0  22.0  18.0\n",
              "0.06  45.5  36.0  26.0  23.0  18.5\n",
              "0.07  46.0  35.5  26.0  21.0  19.0\n",
              "0.08  47.0  33.5  26.0  21.0  17.0\n",
              "0.09  45.0  32.0  26.0  21.0  17.0"
            ]
          },
          "metadata": {
            "tags": []
          },
          "execution_count": 46
        }
      ]
    },
    {
      "cell_type": "markdown",
      "metadata": {
        "colab_type": "text",
        "id": "rbM6hCRSWI04"
      },
      "source": [
        "### Минимальное значение"
      ]
    },
    {
      "cell_type": "markdown",
      "metadata": {
        "colab_type": "text",
        "id": "2ujjyTAZWT1E"
      },
      "source": [
        "#### Преобразование с использованием математического ожидания"
      ]
    },
    {
      "cell_type": "markdown",
      "metadata": {
        "colab_type": "text",
        "id": "IGyBtZe_Niey"
      },
      "source": [
        "Получить минимальное значение размера очереди"
      ]
    },
    {
      "cell_type": "code",
      "metadata": {
        "colab_type": "code",
        "id": "Rq2smJjnNie5",
        "colab": {}
      },
      "source": [
        "t = p2ee_grouped.min()"
      ],
      "execution_count": 0,
      "outputs": []
    },
    {
      "cell_type": "markdown",
      "metadata": {
        "colab_type": "text",
        "id": "wCZSY2JfNifC"
      },
      "source": [
        "Добавть сведения о минимальном значении в сводную таблицу"
      ]
    },
    {
      "cell_type": "code",
      "metadata": {
        "colab_type": "code",
        "id": "4OdS6d1DNifG",
        "colab": {}
      },
      "source": [
        "p2ee_stats['min'] = t['enqueued']"
      ],
      "execution_count": 0,
      "outputs": []
    },
    {
      "cell_type": "markdown",
      "metadata": {
        "colab_type": "text",
        "id": "zAFMAAzkNifN"
      },
      "source": [
        "Отобразить сведения о минимальном значении в таблице"
      ]
    },
    {
      "cell_type": "code",
      "metadata": {
        "colab_type": "code",
        "outputId": "e6fc60e9-063b-43b6-eee8-bb1d8868dc42",
        "id": "-cOaQupWWZ1w",
        "colab": {
          "base_uri": "https://localhost:8080/",
          "height": 359
        }
      },
      "source": [
        "get_compact_table(t)"
      ],
      "execution_count": 49,
      "outputs": [
        {
          "output_type": "execute_result",
          "data": {
            "text/html": [
              "<div>\n",
              "<style scoped>\n",
              "    .dataframe tbody tr th:only-of-type {\n",
              "        vertical-align: middle;\n",
              "    }\n",
              "\n",
              "    .dataframe tbody tr th {\n",
              "        vertical-align: top;\n",
              "    }\n",
              "\n",
              "    .dataframe thead th {\n",
              "        text-align: right;\n",
              "    }\n",
              "</style>\n",
              "<table border=\"1\" class=\"dataframe\">\n",
              "  <thead>\n",
              "    <tr style=\"text-align: right;\">\n",
              "      <th></th>\n",
              "      <th>0.5</th>\n",
              "      <th>0.6</th>\n",
              "      <th>0.7</th>\n",
              "      <th>0.8</th>\n",
              "      <th>0.9</th>\n",
              "    </tr>\n",
              "  </thead>\n",
              "  <tbody>\n",
              "    <tr>\n",
              "      <th>0.00</th>\n",
              "      <td>25.0</td>\n",
              "      <td>21.0</td>\n",
              "      <td>35.0</td>\n",
              "      <td>54.0</td>\n",
              "      <td>111.0</td>\n",
              "    </tr>\n",
              "    <tr>\n",
              "      <th>0.01</th>\n",
              "      <td>24.0</td>\n",
              "      <td>25.0</td>\n",
              "      <td>46.0</td>\n",
              "      <td>53.0</td>\n",
              "      <td>140.0</td>\n",
              "    </tr>\n",
              "    <tr>\n",
              "      <th>0.02</th>\n",
              "      <td>28.0</td>\n",
              "      <td>35.0</td>\n",
              "      <td>32.0</td>\n",
              "      <td>74.0</td>\n",
              "      <td>163.0</td>\n",
              "    </tr>\n",
              "    <tr>\n",
              "      <th>0.03</th>\n",
              "      <td>22.0</td>\n",
              "      <td>34.0</td>\n",
              "      <td>43.0</td>\n",
              "      <td>69.0</td>\n",
              "      <td>136.0</td>\n",
              "    </tr>\n",
              "    <tr>\n",
              "      <th>0.04</th>\n",
              "      <td>22.0</td>\n",
              "      <td>27.0</td>\n",
              "      <td>33.0</td>\n",
              "      <td>71.0</td>\n",
              "      <td>211.0</td>\n",
              "    </tr>\n",
              "    <tr>\n",
              "      <th>0.05</th>\n",
              "      <td>22.0</td>\n",
              "      <td>24.0</td>\n",
              "      <td>43.0</td>\n",
              "      <td>63.0</td>\n",
              "      <td>163.0</td>\n",
              "    </tr>\n",
              "    <tr>\n",
              "      <th>0.06</th>\n",
              "      <td>21.0</td>\n",
              "      <td>35.0</td>\n",
              "      <td>45.0</td>\n",
              "      <td>111.0</td>\n",
              "      <td>208.0</td>\n",
              "    </tr>\n",
              "    <tr>\n",
              "      <th>0.07</th>\n",
              "      <td>23.0</td>\n",
              "      <td>37.0</td>\n",
              "      <td>43.0</td>\n",
              "      <td>79.0</td>\n",
              "      <td>367.0</td>\n",
              "    </tr>\n",
              "    <tr>\n",
              "      <th>0.08</th>\n",
              "      <td>25.0</td>\n",
              "      <td>32.0</td>\n",
              "      <td>42.0</td>\n",
              "      <td>66.0</td>\n",
              "      <td>413.0</td>\n",
              "    </tr>\n",
              "    <tr>\n",
              "      <th>0.09</th>\n",
              "      <td>25.0</td>\n",
              "      <td>37.0</td>\n",
              "      <td>32.0</td>\n",
              "      <td>116.0</td>\n",
              "      <td>496.0</td>\n",
              "    </tr>\n",
              "  </tbody>\n",
              "</table>\n",
              "</div>"
            ],
            "text/plain": [
              "       0.5   0.6   0.7    0.8    0.9\n",
              "0.00  25.0  21.0  35.0   54.0  111.0\n",
              "0.01  24.0  25.0  46.0   53.0  140.0\n",
              "0.02  28.0  35.0  32.0   74.0  163.0\n",
              "0.03  22.0  34.0  43.0   69.0  136.0\n",
              "0.04  22.0  27.0  33.0   71.0  211.0\n",
              "0.05  22.0  24.0  43.0   63.0  163.0\n",
              "0.06  21.0  35.0  45.0  111.0  208.0\n",
              "0.07  23.0  37.0  43.0   79.0  367.0\n",
              "0.08  25.0  32.0  42.0   66.0  413.0\n",
              "0.09  25.0  37.0  32.0  116.0  496.0"
            ]
          },
          "metadata": {
            "tags": []
          },
          "execution_count": 49
        }
      ]
    },
    {
      "cell_type": "markdown",
      "metadata": {
        "colab_type": "text",
        "id": "eEpqYx9YWjgh"
      },
      "source": [
        "#### Преобразование с использованием медианы"
      ]
    },
    {
      "cell_type": "markdown",
      "metadata": {
        "colab_type": "text",
        "id": "zA32Nr5KOQNm"
      },
      "source": [
        "Получить минимальное значение размера очереди"
      ]
    },
    {
      "cell_type": "code",
      "metadata": {
        "colab_type": "code",
        "id": "6RlyIpk7OQNq",
        "colab": {}
      },
      "source": [
        "t = p2em_grouped.min()"
      ],
      "execution_count": 0,
      "outputs": []
    },
    {
      "cell_type": "markdown",
      "metadata": {
        "colab_type": "text",
        "id": "tTDsRL-uOQNx"
      },
      "source": [
        "Добавть сведения о минимальном значении в сводную таблицу"
      ]
    },
    {
      "cell_type": "code",
      "metadata": {
        "colab_type": "code",
        "id": "Zba46sWHOQNz",
        "colab": {}
      },
      "source": [
        "p2em_stats['min'] = t['enqueued']"
      ],
      "execution_count": 0,
      "outputs": []
    },
    {
      "cell_type": "markdown",
      "metadata": {
        "colab_type": "text",
        "id": "0J5Qv_UvOQN6"
      },
      "source": [
        "Отобразить сведения о минимальном значении в таблице"
      ]
    },
    {
      "cell_type": "code",
      "metadata": {
        "colab_type": "code",
        "outputId": "42aef402-7708-4541-d2d7-4af70c72f529",
        "id": "sEZXDvxtXZg8",
        "colab": {
          "base_uri": "https://localhost:8080/",
          "height": 359
        }
      },
      "source": [
        "get_compact_table(t)"
      ],
      "execution_count": 52,
      "outputs": [
        {
          "output_type": "execute_result",
          "data": {
            "text/html": [
              "<div>\n",
              "<style scoped>\n",
              "    .dataframe tbody tr th:only-of-type {\n",
              "        vertical-align: middle;\n",
              "    }\n",
              "\n",
              "    .dataframe tbody tr th {\n",
              "        vertical-align: top;\n",
              "    }\n",
              "\n",
              "    .dataframe thead th {\n",
              "        text-align: right;\n",
              "    }\n",
              "</style>\n",
              "<table border=\"1\" class=\"dataframe\">\n",
              "  <thead>\n",
              "    <tr style=\"text-align: right;\">\n",
              "      <th></th>\n",
              "      <th>0.5</th>\n",
              "      <th>0.6</th>\n",
              "      <th>0.7</th>\n",
              "      <th>0.8</th>\n",
              "      <th>0.9</th>\n",
              "    </tr>\n",
              "  </thead>\n",
              "  <tbody>\n",
              "    <tr>\n",
              "      <th>0.00</th>\n",
              "      <td>29.0</td>\n",
              "      <td>21.0</td>\n",
              "      <td>17.0</td>\n",
              "      <td>13.0</td>\n",
              "      <td>13.0</td>\n",
              "    </tr>\n",
              "    <tr>\n",
              "      <th>0.01</th>\n",
              "      <td>24.0</td>\n",
              "      <td>25.0</td>\n",
              "      <td>17.0</td>\n",
              "      <td>14.0</td>\n",
              "      <td>11.0</td>\n",
              "    </tr>\n",
              "    <tr>\n",
              "      <th>0.02</th>\n",
              "      <td>24.0</td>\n",
              "      <td>18.0</td>\n",
              "      <td>16.0</td>\n",
              "      <td>13.0</td>\n",
              "      <td>12.0</td>\n",
              "    </tr>\n",
              "    <tr>\n",
              "      <th>0.03</th>\n",
              "      <td>23.0</td>\n",
              "      <td>23.0</td>\n",
              "      <td>17.0</td>\n",
              "      <td>13.0</td>\n",
              "      <td>12.0</td>\n",
              "    </tr>\n",
              "    <tr>\n",
              "      <th>0.04</th>\n",
              "      <td>22.0</td>\n",
              "      <td>17.0</td>\n",
              "      <td>18.0</td>\n",
              "      <td>15.0</td>\n",
              "      <td>12.0</td>\n",
              "    </tr>\n",
              "    <tr>\n",
              "      <th>0.05</th>\n",
              "      <td>26.0</td>\n",
              "      <td>15.0</td>\n",
              "      <td>14.0</td>\n",
              "      <td>14.0</td>\n",
              "      <td>11.0</td>\n",
              "    </tr>\n",
              "    <tr>\n",
              "      <th>0.06</th>\n",
              "      <td>23.0</td>\n",
              "      <td>18.0</td>\n",
              "      <td>14.0</td>\n",
              "      <td>13.0</td>\n",
              "      <td>12.0</td>\n",
              "    </tr>\n",
              "    <tr>\n",
              "      <th>0.07</th>\n",
              "      <td>21.0</td>\n",
              "      <td>14.0</td>\n",
              "      <td>16.0</td>\n",
              "      <td>14.0</td>\n",
              "      <td>12.0</td>\n",
              "    </tr>\n",
              "    <tr>\n",
              "      <th>0.08</th>\n",
              "      <td>20.0</td>\n",
              "      <td>16.0</td>\n",
              "      <td>15.0</td>\n",
              "      <td>13.0</td>\n",
              "      <td>11.0</td>\n",
              "    </tr>\n",
              "    <tr>\n",
              "      <th>0.09</th>\n",
              "      <td>19.0</td>\n",
              "      <td>16.0</td>\n",
              "      <td>15.0</td>\n",
              "      <td>10.0</td>\n",
              "      <td>10.0</td>\n",
              "    </tr>\n",
              "  </tbody>\n",
              "</table>\n",
              "</div>"
            ],
            "text/plain": [
              "       0.5   0.6   0.7   0.8   0.9\n",
              "0.00  29.0  21.0  17.0  13.0  13.0\n",
              "0.01  24.0  25.0  17.0  14.0  11.0\n",
              "0.02  24.0  18.0  16.0  13.0  12.0\n",
              "0.03  23.0  23.0  17.0  13.0  12.0\n",
              "0.04  22.0  17.0  18.0  15.0  12.0\n",
              "0.05  26.0  15.0  14.0  14.0  11.0\n",
              "0.06  23.0  18.0  14.0  13.0  12.0\n",
              "0.07  21.0  14.0  16.0  14.0  12.0\n",
              "0.08  20.0  16.0  15.0  13.0  11.0\n",
              "0.09  19.0  16.0  15.0  10.0  10.0"
            ]
          },
          "metadata": {
            "tags": []
          },
          "execution_count": 52
        }
      ]
    },
    {
      "cell_type": "markdown",
      "metadata": {
        "colab_type": "text",
        "id": "NteGgz6bX_Pb"
      },
      "source": [
        "### Максимальное значение"
      ]
    },
    {
      "cell_type": "markdown",
      "metadata": {
        "colab_type": "text",
        "id": "kK7Uogv6YMQ0"
      },
      "source": [
        "#### Преобразование с использованием математического ожидания"
      ]
    },
    {
      "cell_type": "markdown",
      "metadata": {
        "colab_type": "text",
        "id": "9L8bkPjzPNzn"
      },
      "source": [
        "Получить максимальное значение размера очереди"
      ]
    },
    {
      "cell_type": "code",
      "metadata": {
        "colab_type": "code",
        "id": "PJeltqLCPNzs",
        "colab": {}
      },
      "source": [
        "t = p2ee_grouped.max()"
      ],
      "execution_count": 0,
      "outputs": []
    },
    {
      "cell_type": "markdown",
      "metadata": {
        "colab_type": "text",
        "id": "UPmvh8DPPNz0"
      },
      "source": [
        "Добавть сведения о максимальном значении в сводную таблицу"
      ]
    },
    {
      "cell_type": "code",
      "metadata": {
        "colab_type": "code",
        "id": "BsJHqYsaPNz1",
        "colab": {}
      },
      "source": [
        "p2ee_stats['max'] = t['enqueued']"
      ],
      "execution_count": 0,
      "outputs": []
    },
    {
      "cell_type": "markdown",
      "metadata": {
        "colab_type": "text",
        "id": "Ty_QMisqPNz4"
      },
      "source": [
        "Отобразить сведения о максимальном значении в таблице"
      ]
    },
    {
      "cell_type": "code",
      "metadata": {
        "colab_type": "code",
        "outputId": "bc581b7f-b17f-4848-d554-1f9a44070b92",
        "id": "nn8H31IUYQuR",
        "colab": {
          "base_uri": "https://localhost:8080/",
          "height": 359
        }
      },
      "source": [
        "get_compact_table(t)"
      ],
      "execution_count": 55,
      "outputs": [
        {
          "output_type": "execute_result",
          "data": {
            "text/html": [
              "<div>\n",
              "<style scoped>\n",
              "    .dataframe tbody tr th:only-of-type {\n",
              "        vertical-align: middle;\n",
              "    }\n",
              "\n",
              "    .dataframe tbody tr th {\n",
              "        vertical-align: top;\n",
              "    }\n",
              "\n",
              "    .dataframe thead th {\n",
              "        text-align: right;\n",
              "    }\n",
              "</style>\n",
              "<table border=\"1\" class=\"dataframe\">\n",
              "  <thead>\n",
              "    <tr style=\"text-align: right;\">\n",
              "      <th></th>\n",
              "      <th>0.5</th>\n",
              "      <th>0.6</th>\n",
              "      <th>0.7</th>\n",
              "      <th>0.8</th>\n",
              "      <th>0.9</th>\n",
              "    </tr>\n",
              "  </thead>\n",
              "  <tbody>\n",
              "    <tr>\n",
              "      <th>0.00</th>\n",
              "      <td>122.0</td>\n",
              "      <td>152.0</td>\n",
              "      <td>183.0</td>\n",
              "      <td>276.0</td>\n",
              "      <td>449.0</td>\n",
              "    </tr>\n",
              "    <tr>\n",
              "      <th>0.01</th>\n",
              "      <td>125.0</td>\n",
              "      <td>158.0</td>\n",
              "      <td>215.0</td>\n",
              "      <td>293.0</td>\n",
              "      <td>454.0</td>\n",
              "    </tr>\n",
              "    <tr>\n",
              "      <th>0.02</th>\n",
              "      <td>128.0</td>\n",
              "      <td>141.0</td>\n",
              "      <td>241.0</td>\n",
              "      <td>266.0</td>\n",
              "      <td>508.0</td>\n",
              "    </tr>\n",
              "    <tr>\n",
              "      <th>0.03</th>\n",
              "      <td>165.0</td>\n",
              "      <td>153.0</td>\n",
              "      <td>176.0</td>\n",
              "      <td>285.0</td>\n",
              "      <td>598.0</td>\n",
              "    </tr>\n",
              "    <tr>\n",
              "      <th>0.04</th>\n",
              "      <td>123.0</td>\n",
              "      <td>213.0</td>\n",
              "      <td>213.0</td>\n",
              "      <td>315.0</td>\n",
              "      <td>584.0</td>\n",
              "    </tr>\n",
              "    <tr>\n",
              "      <th>0.05</th>\n",
              "      <td>148.0</td>\n",
              "      <td>155.0</td>\n",
              "      <td>225.0</td>\n",
              "      <td>340.0</td>\n",
              "      <td>664.0</td>\n",
              "    </tr>\n",
              "    <tr>\n",
              "      <th>0.06</th>\n",
              "      <td>143.0</td>\n",
              "      <td>169.0</td>\n",
              "      <td>211.0</td>\n",
              "      <td>350.0</td>\n",
              "      <td>706.0</td>\n",
              "    </tr>\n",
              "    <tr>\n",
              "      <th>0.07</th>\n",
              "      <td>151.0</td>\n",
              "      <td>182.0</td>\n",
              "      <td>275.0</td>\n",
              "      <td>394.0</td>\n",
              "      <td>751.0</td>\n",
              "    </tr>\n",
              "    <tr>\n",
              "      <th>0.08</th>\n",
              "      <td>145.0</td>\n",
              "      <td>174.0</td>\n",
              "      <td>304.0</td>\n",
              "      <td>427.0</td>\n",
              "      <td>836.0</td>\n",
              "    </tr>\n",
              "    <tr>\n",
              "      <th>0.09</th>\n",
              "      <td>187.0</td>\n",
              "      <td>178.0</td>\n",
              "      <td>281.0</td>\n",
              "      <td>428.0</td>\n",
              "      <td>937.0</td>\n",
              "    </tr>\n",
              "  </tbody>\n",
              "</table>\n",
              "</div>"
            ],
            "text/plain": [
              "        0.5    0.6    0.7    0.8    0.9\n",
              "0.00  122.0  152.0  183.0  276.0  449.0\n",
              "0.01  125.0  158.0  215.0  293.0  454.0\n",
              "0.02  128.0  141.0  241.0  266.0  508.0\n",
              "0.03  165.0  153.0  176.0  285.0  598.0\n",
              "0.04  123.0  213.0  213.0  315.0  584.0\n",
              "0.05  148.0  155.0  225.0  340.0  664.0\n",
              "0.06  143.0  169.0  211.0  350.0  706.0\n",
              "0.07  151.0  182.0  275.0  394.0  751.0\n",
              "0.08  145.0  174.0  304.0  427.0  836.0\n",
              "0.09  187.0  178.0  281.0  428.0  937.0"
            ]
          },
          "metadata": {
            "tags": []
          },
          "execution_count": 55
        }
      ]
    },
    {
      "cell_type": "markdown",
      "metadata": {
        "colab_type": "text",
        "id": "0jC1w4Q2YeBC"
      },
      "source": [
        "#### Преобразование с использованием медианы"
      ]
    },
    {
      "cell_type": "markdown",
      "metadata": {
        "colab_type": "text",
        "id": "qsJTJxRWPzfy"
      },
      "source": [
        "Получить максимальное значение размера очереди"
      ]
    },
    {
      "cell_type": "code",
      "metadata": {
        "colab_type": "code",
        "id": "xnM8mkIrPzf1",
        "colab": {}
      },
      "source": [
        "t = p2em_grouped.max()"
      ],
      "execution_count": 0,
      "outputs": []
    },
    {
      "cell_type": "markdown",
      "metadata": {
        "colab_type": "text",
        "id": "Iv-lxBGSPzf5"
      },
      "source": [
        "Добавть сведения о максимальном значении в сводную таблицу"
      ]
    },
    {
      "cell_type": "code",
      "metadata": {
        "colab_type": "code",
        "id": "jsWeViUIPzf5",
        "colab": {}
      },
      "source": [
        "p2em_stats['max'] = t['enqueued']"
      ],
      "execution_count": 0,
      "outputs": []
    },
    {
      "cell_type": "markdown",
      "metadata": {
        "colab_type": "text",
        "id": "3rXgJNHlPzf8"
      },
      "source": [
        "Отобразить сведения о максимальном значении в таблице"
      ]
    },
    {
      "cell_type": "code",
      "metadata": {
        "colab_type": "code",
        "outputId": "4eafae5b-87f4-4c6f-8977-4ee595c18a8c",
        "id": "haeavTGXYh2Q",
        "colab": {
          "base_uri": "https://localhost:8080/",
          "height": 359
        }
      },
      "source": [
        "get_compact_table(t)"
      ],
      "execution_count": 58,
      "outputs": [
        {
          "output_type": "execute_result",
          "data": {
            "text/html": [
              "<div>\n",
              "<style scoped>\n",
              "    .dataframe tbody tr th:only-of-type {\n",
              "        vertical-align: middle;\n",
              "    }\n",
              "\n",
              "    .dataframe tbody tr th {\n",
              "        vertical-align: top;\n",
              "    }\n",
              "\n",
              "    .dataframe thead th {\n",
              "        text-align: right;\n",
              "    }\n",
              "</style>\n",
              "<table border=\"1\" class=\"dataframe\">\n",
              "  <thead>\n",
              "    <tr style=\"text-align: right;\">\n",
              "      <th></th>\n",
              "      <th>0.5</th>\n",
              "      <th>0.6</th>\n",
              "      <th>0.7</th>\n",
              "      <th>0.8</th>\n",
              "      <th>0.9</th>\n",
              "    </tr>\n",
              "  </thead>\n",
              "  <tbody>\n",
              "    <tr>\n",
              "      <th>0.00</th>\n",
              "      <td>154.0</td>\n",
              "      <td>118.0</td>\n",
              "      <td>94.0</td>\n",
              "      <td>64.0</td>\n",
              "      <td>42.0</td>\n",
              "    </tr>\n",
              "    <tr>\n",
              "      <th>0.01</th>\n",
              "      <td>144.0</td>\n",
              "      <td>95.0</td>\n",
              "      <td>82.0</td>\n",
              "      <td>45.0</td>\n",
              "      <td>43.0</td>\n",
              "    </tr>\n",
              "    <tr>\n",
              "      <th>0.02</th>\n",
              "      <td>136.0</td>\n",
              "      <td>112.0</td>\n",
              "      <td>70.0</td>\n",
              "      <td>56.0</td>\n",
              "      <td>44.0</td>\n",
              "    </tr>\n",
              "    <tr>\n",
              "      <th>0.03</th>\n",
              "      <td>139.0</td>\n",
              "      <td>72.0</td>\n",
              "      <td>65.0</td>\n",
              "      <td>68.0</td>\n",
              "      <td>35.0</td>\n",
              "    </tr>\n",
              "    <tr>\n",
              "      <th>0.04</th>\n",
              "      <td>120.0</td>\n",
              "      <td>110.0</td>\n",
              "      <td>62.0</td>\n",
              "      <td>54.0</td>\n",
              "      <td>34.0</td>\n",
              "    </tr>\n",
              "    <tr>\n",
              "      <th>0.05</th>\n",
              "      <td>144.0</td>\n",
              "      <td>95.0</td>\n",
              "      <td>68.0</td>\n",
              "      <td>42.0</td>\n",
              "      <td>29.0</td>\n",
              "    </tr>\n",
              "    <tr>\n",
              "      <th>0.06</th>\n",
              "      <td>122.0</td>\n",
              "      <td>84.0</td>\n",
              "      <td>55.0</td>\n",
              "      <td>45.0</td>\n",
              "      <td>32.0</td>\n",
              "    </tr>\n",
              "    <tr>\n",
              "      <th>0.07</th>\n",
              "      <td>113.0</td>\n",
              "      <td>79.0</td>\n",
              "      <td>59.0</td>\n",
              "      <td>40.0</td>\n",
              "      <td>35.0</td>\n",
              "    </tr>\n",
              "    <tr>\n",
              "      <th>0.08</th>\n",
              "      <td>138.0</td>\n",
              "      <td>79.0</td>\n",
              "      <td>53.0</td>\n",
              "      <td>43.0</td>\n",
              "      <td>35.0</td>\n",
              "    </tr>\n",
              "    <tr>\n",
              "      <th>0.09</th>\n",
              "      <td>121.0</td>\n",
              "      <td>82.0</td>\n",
              "      <td>55.0</td>\n",
              "      <td>41.0</td>\n",
              "      <td>33.0</td>\n",
              "    </tr>\n",
              "  </tbody>\n",
              "</table>\n",
              "</div>"
            ],
            "text/plain": [
              "        0.5    0.6   0.7   0.8   0.9\n",
              "0.00  154.0  118.0  94.0  64.0  42.0\n",
              "0.01  144.0   95.0  82.0  45.0  43.0\n",
              "0.02  136.0  112.0  70.0  56.0  44.0\n",
              "0.03  139.0   72.0  65.0  68.0  35.0\n",
              "0.04  120.0  110.0  62.0  54.0  34.0\n",
              "0.05  144.0   95.0  68.0  42.0  29.0\n",
              "0.06  122.0   84.0  55.0  45.0  32.0\n",
              "0.07  113.0   79.0  59.0  40.0  35.0\n",
              "0.08  138.0   79.0  53.0  43.0  35.0\n",
              "0.09  121.0   82.0  55.0  41.0  33.0"
            ]
          },
          "metadata": {
            "tags": []
          },
          "execution_count": 58
        }
      ]
    },
    {
      "cell_type": "markdown",
      "metadata": {
        "colab_type": "text",
        "id": "Gstlls_VZFkC"
      },
      "source": [
        "### Коэффициент асимметрии"
      ]
    },
    {
      "cell_type": "markdown",
      "metadata": {
        "colab_type": "text",
        "id": "EclthUc9ZXQ4"
      },
      "source": [
        "#### Преобразование с использованием математического ожидания"
      ]
    },
    {
      "cell_type": "markdown",
      "metadata": {
        "colab_type": "text",
        "id": "beKemdhyQjzi"
      },
      "source": [
        "Получить коэффициент асимметрии размера очереди"
      ]
    },
    {
      "cell_type": "code",
      "metadata": {
        "colab_type": "code",
        "id": "JIbA7CmMQjzl",
        "colab": {}
      },
      "source": [
        "t = p2ee_grouped.skew()"
      ],
      "execution_count": 0,
      "outputs": []
    },
    {
      "cell_type": "markdown",
      "metadata": {
        "colab_type": "text",
        "id": "wHurzK5AQjzp"
      },
      "source": [
        "Добавть сведения о коэффициенте асимметрии в сводную таблицу"
      ]
    },
    {
      "cell_type": "code",
      "metadata": {
        "colab_type": "code",
        "id": "mYVjEL1vQjzq",
        "colab": {}
      },
      "source": [
        "p2ee_stats['skewness'] = t['enqueued']"
      ],
      "execution_count": 0,
      "outputs": []
    },
    {
      "cell_type": "markdown",
      "metadata": {
        "colab_type": "text",
        "id": "3JIiL7MFQjzu"
      },
      "source": [
        "Отобразить сведения о коэффициенте асимметрии в таблице"
      ]
    },
    {
      "cell_type": "code",
      "metadata": {
        "colab_type": "code",
        "outputId": "523ce3a5-c63a-454c-f1b9-86e2c214da15",
        "id": "4u2lDxcDZc6R",
        "colab": {
          "base_uri": "https://localhost:8080/",
          "height": 359
        }
      },
      "source": [
        "get_compact_table(t)"
      ],
      "execution_count": 61,
      "outputs": [
        {
          "output_type": "execute_result",
          "data": {
            "text/html": [
              "<div>\n",
              "<style scoped>\n",
              "    .dataframe tbody tr th:only-of-type {\n",
              "        vertical-align: middle;\n",
              "    }\n",
              "\n",
              "    .dataframe tbody tr th {\n",
              "        vertical-align: top;\n",
              "    }\n",
              "\n",
              "    .dataframe thead th {\n",
              "        text-align: right;\n",
              "    }\n",
              "</style>\n",
              "<table border=\"1\" class=\"dataframe\">\n",
              "  <thead>\n",
              "    <tr style=\"text-align: right;\">\n",
              "      <th></th>\n",
              "      <th>0.5</th>\n",
              "      <th>0.6</th>\n",
              "      <th>0.7</th>\n",
              "      <th>0.8</th>\n",
              "      <th>0.9</th>\n",
              "    </tr>\n",
              "  </thead>\n",
              "  <tbody>\n",
              "    <tr>\n",
              "      <th>0.00</th>\n",
              "      <td>0.830586</td>\n",
              "      <td>0.653962</td>\n",
              "      <td>0.531664</td>\n",
              "      <td>0.572996</td>\n",
              "      <td>0.238688</td>\n",
              "    </tr>\n",
              "    <tr>\n",
              "      <th>0.01</th>\n",
              "      <td>0.738789</td>\n",
              "      <td>0.483973</td>\n",
              "      <td>0.812247</td>\n",
              "      <td>0.612669</td>\n",
              "      <td>-0.014704</td>\n",
              "    </tr>\n",
              "    <tr>\n",
              "      <th>0.02</th>\n",
              "      <td>0.639151</td>\n",
              "      <td>0.757344</td>\n",
              "      <td>0.726692</td>\n",
              "      <td>0.296290</td>\n",
              "      <td>-0.072402</td>\n",
              "    </tr>\n",
              "    <tr>\n",
              "      <th>0.03</th>\n",
              "      <td>1.203879</td>\n",
              "      <td>0.605083</td>\n",
              "      <td>0.519040</td>\n",
              "      <td>-0.043802</td>\n",
              "      <td>-0.448606</td>\n",
              "    </tr>\n",
              "    <tr>\n",
              "      <th>0.04</th>\n",
              "      <td>0.381793</td>\n",
              "      <td>1.036003</td>\n",
              "      <td>0.669109</td>\n",
              "      <td>0.203947</td>\n",
              "      <td>-0.228790</td>\n",
              "    </tr>\n",
              "    <tr>\n",
              "      <th>0.05</th>\n",
              "      <td>1.007879</td>\n",
              "      <td>0.599062</td>\n",
              "      <td>0.443124</td>\n",
              "      <td>0.004328</td>\n",
              "      <td>-0.578356</td>\n",
              "    </tr>\n",
              "    <tr>\n",
              "      <th>0.06</th>\n",
              "      <td>0.662529</td>\n",
              "      <td>0.674364</td>\n",
              "      <td>0.475911</td>\n",
              "      <td>0.370838</td>\n",
              "      <td>-0.951027</td>\n",
              "    </tr>\n",
              "    <tr>\n",
              "      <th>0.07</th>\n",
              "      <td>1.023424</td>\n",
              "      <td>0.461374</td>\n",
              "      <td>0.570788</td>\n",
              "      <td>0.101087</td>\n",
              "      <td>-0.787383</td>\n",
              "    </tr>\n",
              "    <tr>\n",
              "      <th>0.08</th>\n",
              "      <td>0.814010</td>\n",
              "      <td>0.121732</td>\n",
              "      <td>0.954797</td>\n",
              "      <td>0.010166</td>\n",
              "      <td>-1.206503</td>\n",
              "    </tr>\n",
              "    <tr>\n",
              "      <th>0.09</th>\n",
              "      <td>1.339338</td>\n",
              "      <td>0.452777</td>\n",
              "      <td>0.441852</td>\n",
              "      <td>0.401142</td>\n",
              "      <td>-1.910504</td>\n",
              "    </tr>\n",
              "  </tbody>\n",
              "</table>\n",
              "</div>"
            ],
            "text/plain": [
              "           0.5       0.6       0.7       0.8       0.9\n",
              "0.00  0.830586  0.653962  0.531664  0.572996  0.238688\n",
              "0.01  0.738789  0.483973  0.812247  0.612669 -0.014704\n",
              "0.02  0.639151  0.757344  0.726692  0.296290 -0.072402\n",
              "0.03  1.203879  0.605083  0.519040 -0.043802 -0.448606\n",
              "0.04  0.381793  1.036003  0.669109  0.203947 -0.228790\n",
              "0.05  1.007879  0.599062  0.443124  0.004328 -0.578356\n",
              "0.06  0.662529  0.674364  0.475911  0.370838 -0.951027\n",
              "0.07  1.023424  0.461374  0.570788  0.101087 -0.787383\n",
              "0.08  0.814010  0.121732  0.954797  0.010166 -1.206503\n",
              "0.09  1.339338  0.452777  0.441852  0.401142 -1.910504"
            ]
          },
          "metadata": {
            "tags": []
          },
          "execution_count": 61
        }
      ]
    },
    {
      "cell_type": "markdown",
      "metadata": {
        "colab_type": "text",
        "id": "DiBUoP5gZoVT"
      },
      "source": [
        "#### Преобразование с использованием медианы"
      ]
    },
    {
      "cell_type": "markdown",
      "metadata": {
        "colab_type": "text",
        "id": "j5d9svf8Rh-4"
      },
      "source": [
        "Получить коэффициент асимметрии размера очереди"
      ]
    },
    {
      "cell_type": "code",
      "metadata": {
        "colab_type": "code",
        "id": "W-s_SdtYRh-9",
        "colab": {}
      },
      "source": [
        "t = p2em_grouped.skew()"
      ],
      "execution_count": 0,
      "outputs": []
    },
    {
      "cell_type": "markdown",
      "metadata": {
        "colab_type": "text",
        "id": "wGMnae1HRh_D"
      },
      "source": [
        "Добавть сведения о коэффициенте асимметрии в сводную таблицу"
      ]
    },
    {
      "cell_type": "code",
      "metadata": {
        "colab_type": "code",
        "id": "0_f32LzgRh_E",
        "colab": {}
      },
      "source": [
        "p2em_stats['skewness'] = t['enqueued']"
      ],
      "execution_count": 0,
      "outputs": []
    },
    {
      "cell_type": "markdown",
      "metadata": {
        "colab_type": "text",
        "id": "1GF4jmGxRh_I"
      },
      "source": [
        "Отобразить сведения о коэффициенте асимметрии в таблице"
      ]
    },
    {
      "cell_type": "code",
      "metadata": {
        "colab_type": "code",
        "outputId": "9d78e4ca-989a-459e-94ff-1e44d1bb05a1",
        "id": "JJEf2EjdZtL9",
        "colab": {
          "base_uri": "https://localhost:8080/",
          "height": 359
        }
      },
      "source": [
        "get_compact_table(t)"
      ],
      "execution_count": 64,
      "outputs": [
        {
          "output_type": "execute_result",
          "data": {
            "text/html": [
              "<div>\n",
              "<style scoped>\n",
              "    .dataframe tbody tr th:only-of-type {\n",
              "        vertical-align: middle;\n",
              "    }\n",
              "\n",
              "    .dataframe tbody tr th {\n",
              "        vertical-align: top;\n",
              "    }\n",
              "\n",
              "    .dataframe thead th {\n",
              "        text-align: right;\n",
              "    }\n",
              "</style>\n",
              "<table border=\"1\" class=\"dataframe\">\n",
              "  <thead>\n",
              "    <tr style=\"text-align: right;\">\n",
              "      <th></th>\n",
              "      <th>0.5</th>\n",
              "      <th>0.6</th>\n",
              "      <th>0.7</th>\n",
              "      <th>0.8</th>\n",
              "      <th>0.9</th>\n",
              "    </tr>\n",
              "  </thead>\n",
              "  <tbody>\n",
              "    <tr>\n",
              "      <th>0.00</th>\n",
              "      <td>0.698046</td>\n",
              "      <td>1.221133</td>\n",
              "      <td>1.774734</td>\n",
              "      <td>1.459216</td>\n",
              "      <td>0.769284</td>\n",
              "    </tr>\n",
              "    <tr>\n",
              "      <th>0.01</th>\n",
              "      <td>0.983224</td>\n",
              "      <td>0.694792</td>\n",
              "      <td>1.843191</td>\n",
              "      <td>0.983869</td>\n",
              "      <td>0.916123</td>\n",
              "    </tr>\n",
              "    <tr>\n",
              "      <th>0.02</th>\n",
              "      <td>0.490193</td>\n",
              "      <td>1.312633</td>\n",
              "      <td>0.860356</td>\n",
              "      <td>1.497677</td>\n",
              "      <td>1.344460</td>\n",
              "    </tr>\n",
              "    <tr>\n",
              "      <th>0.03</th>\n",
              "      <td>1.174129</td>\n",
              "      <td>0.616415</td>\n",
              "      <td>0.847834</td>\n",
              "      <td>2.901598</td>\n",
              "      <td>1.063125</td>\n",
              "    </tr>\n",
              "    <tr>\n",
              "      <th>0.04</th>\n",
              "      <td>0.805176</td>\n",
              "      <td>1.548203</td>\n",
              "      <td>1.107423</td>\n",
              "      <td>1.600191</td>\n",
              "      <td>1.039566</td>\n",
              "    </tr>\n",
              "    <tr>\n",
              "      <th>0.05</th>\n",
              "      <td>0.910676</td>\n",
              "      <td>1.040540</td>\n",
              "      <td>1.363088</td>\n",
              "      <td>0.946562</td>\n",
              "      <td>0.589803</td>\n",
              "    </tr>\n",
              "    <tr>\n",
              "      <th>0.06</th>\n",
              "      <td>1.205572</td>\n",
              "      <td>0.800475</td>\n",
              "      <td>1.144646</td>\n",
              "      <td>1.045088</td>\n",
              "      <td>0.572901</td>\n",
              "    </tr>\n",
              "    <tr>\n",
              "      <th>0.07</th>\n",
              "      <td>1.195983</td>\n",
              "      <td>1.074991</td>\n",
              "      <td>1.008200</td>\n",
              "      <td>0.918641</td>\n",
              "      <td>0.967955</td>\n",
              "    </tr>\n",
              "    <tr>\n",
              "      <th>0.08</th>\n",
              "      <td>1.132622</td>\n",
              "      <td>0.892968</td>\n",
              "      <td>0.955713</td>\n",
              "      <td>1.301706</td>\n",
              "      <td>1.353775</td>\n",
              "    </tr>\n",
              "    <tr>\n",
              "      <th>0.09</th>\n",
              "      <td>1.257434</td>\n",
              "      <td>1.116837</td>\n",
              "      <td>1.189066</td>\n",
              "      <td>0.913426</td>\n",
              "      <td>1.196422</td>\n",
              "    </tr>\n",
              "  </tbody>\n",
              "</table>\n",
              "</div>"
            ],
            "text/plain": [
              "           0.5       0.6       0.7       0.8       0.9\n",
              "0.00  0.698046  1.221133  1.774734  1.459216  0.769284\n",
              "0.01  0.983224  0.694792  1.843191  0.983869  0.916123\n",
              "0.02  0.490193  1.312633  0.860356  1.497677  1.344460\n",
              "0.03  1.174129  0.616415  0.847834  2.901598  1.063125\n",
              "0.04  0.805176  1.548203  1.107423  1.600191  1.039566\n",
              "0.05  0.910676  1.040540  1.363088  0.946562  0.589803\n",
              "0.06  1.205572  0.800475  1.144646  1.045088  0.572901\n",
              "0.07  1.195983  1.074991  1.008200  0.918641  0.967955\n",
              "0.08  1.132622  0.892968  0.955713  1.301706  1.353775\n",
              "0.09  1.257434  1.116837  1.189066  0.913426  1.196422"
            ]
          },
          "metadata": {
            "tags": []
          },
          "execution_count": 64
        }
      ]
    },
    {
      "cell_type": "markdown",
      "metadata": {
        "colab_type": "text",
        "id": "uhISVBg6F3H3"
      },
      "source": [
        "### Коэффициент эксцесса"
      ]
    },
    {
      "cell_type": "markdown",
      "metadata": {
        "colab_type": "text",
        "id": "o1ily5HhGCN1"
      },
      "source": [
        "#### Преобразование с использованием математического ожидания"
      ]
    },
    {
      "cell_type": "markdown",
      "metadata": {
        "colab_type": "text",
        "id": "2McRWsOeSNVZ"
      },
      "source": [
        "Получить коэффициент эксцесса размера очереди"
      ]
    },
    {
      "cell_type": "code",
      "metadata": {
        "colab_type": "code",
        "id": "7AaWmuAFSNVc",
        "colab": {}
      },
      "source": [
        "t = p2ee_grouped.apply(pd.DataFrame.kurt)"
      ],
      "execution_count": 0,
      "outputs": []
    },
    {
      "cell_type": "markdown",
      "metadata": {
        "colab_type": "text",
        "id": "QKeZrcT1SNVg"
      },
      "source": [
        "Добавть сведения о коэффициенте эксцесса в сводную таблицу"
      ]
    },
    {
      "cell_type": "code",
      "metadata": {
        "colab_type": "code",
        "id": "kpNbWrPySNVh",
        "colab": {}
      },
      "source": [
        "p2ee_stats['kurtosis'] = t['enqueued']"
      ],
      "execution_count": 0,
      "outputs": []
    },
    {
      "cell_type": "markdown",
      "metadata": {
        "colab_type": "text",
        "id": "hOMhH5TuSNVk"
      },
      "source": [
        "Отобразить сведения о коэффициенте экцесса в таблице"
      ]
    },
    {
      "cell_type": "code",
      "metadata": {
        "id": "HoomteDnaArG",
        "colab_type": "code",
        "outputId": "75acef1e-3f86-44b9-9c31-d3b37ee1e90e",
        "colab": {
          "base_uri": "https://localhost:8080/",
          "height": 359
        }
      },
      "source": [
        "get_compact_table(t)"
      ],
      "execution_count": 67,
      "outputs": [
        {
          "output_type": "execute_result",
          "data": {
            "text/html": [
              "<div>\n",
              "<style scoped>\n",
              "    .dataframe tbody tr th:only-of-type {\n",
              "        vertical-align: middle;\n",
              "    }\n",
              "\n",
              "    .dataframe tbody tr th {\n",
              "        vertical-align: top;\n",
              "    }\n",
              "\n",
              "    .dataframe thead th {\n",
              "        text-align: right;\n",
              "    }\n",
              "</style>\n",
              "<table border=\"1\" class=\"dataframe\">\n",
              "  <thead>\n",
              "    <tr style=\"text-align: right;\">\n",
              "      <th></th>\n",
              "      <th>0.5</th>\n",
              "      <th>0.6</th>\n",
              "      <th>0.7</th>\n",
              "      <th>0.8</th>\n",
              "      <th>0.9</th>\n",
              "    </tr>\n",
              "  </thead>\n",
              "  <tbody>\n",
              "    <tr>\n",
              "      <th>0.00</th>\n",
              "      <td>0.054199</td>\n",
              "      <td>0.121377</td>\n",
              "      <td>-0.157431</td>\n",
              "      <td>0.304235</td>\n",
              "      <td>-0.133374</td>\n",
              "    </tr>\n",
              "    <tr>\n",
              "      <th>0.01</th>\n",
              "      <td>-0.241694</td>\n",
              "      <td>-0.390750</td>\n",
              "      <td>0.491297</td>\n",
              "      <td>0.086939</td>\n",
              "      <td>-1.075052</td>\n",
              "    </tr>\n",
              "    <tr>\n",
              "      <th>0.02</th>\n",
              "      <td>-0.190332</td>\n",
              "      <td>-0.141525</td>\n",
              "      <td>1.171006</td>\n",
              "      <td>-0.655633</td>\n",
              "      <td>-1.147454</td>\n",
              "    </tr>\n",
              "    <tr>\n",
              "      <th>0.03</th>\n",
              "      <td>2.234081</td>\n",
              "      <td>-0.128409</td>\n",
              "      <td>-0.585277</td>\n",
              "      <td>-0.637265</td>\n",
              "      <td>0.035445</td>\n",
              "    </tr>\n",
              "    <tr>\n",
              "      <th>0.04</th>\n",
              "      <td>-0.501224</td>\n",
              "      <td>1.496643</td>\n",
              "      <td>0.222879</td>\n",
              "      <td>-0.480471</td>\n",
              "      <td>-0.687910</td>\n",
              "    </tr>\n",
              "    <tr>\n",
              "      <th>0.05</th>\n",
              "      <td>1.063989</td>\n",
              "      <td>-0.081376</td>\n",
              "      <td>-0.439493</td>\n",
              "      <td>-0.573807</td>\n",
              "      <td>-0.121929</td>\n",
              "    </tr>\n",
              "    <tr>\n",
              "      <th>0.06</th>\n",
              "      <td>0.067864</td>\n",
              "      <td>-0.090491</td>\n",
              "      <td>-0.524515</td>\n",
              "      <td>-0.698700</td>\n",
              "      <td>1.768381</td>\n",
              "    </tr>\n",
              "    <tr>\n",
              "      <th>0.07</th>\n",
              "      <td>1.229612</td>\n",
              "      <td>-0.661683</td>\n",
              "      <td>0.410137</td>\n",
              "      <td>-0.535807</td>\n",
              "      <td>-0.240995</td>\n",
              "    </tr>\n",
              "    <tr>\n",
              "      <th>0.08</th>\n",
              "      <td>0.179241</td>\n",
              "      <td>-0.985614</td>\n",
              "      <td>1.121628</td>\n",
              "      <td>-0.792414</td>\n",
              "      <td>1.277010</td>\n",
              "    </tr>\n",
              "    <tr>\n",
              "      <th>0.09</th>\n",
              "      <td>2.365290</td>\n",
              "      <td>-0.186303</td>\n",
              "      <td>-0.081943</td>\n",
              "      <td>-0.450492</td>\n",
              "      <td>3.670586</td>\n",
              "    </tr>\n",
              "  </tbody>\n",
              "</table>\n",
              "</div>"
            ],
            "text/plain": [
              "           0.5       0.6       0.7       0.8       0.9\n",
              "0.00  0.054199  0.121377 -0.157431  0.304235 -0.133374\n",
              "0.01 -0.241694 -0.390750  0.491297  0.086939 -1.075052\n",
              "0.02 -0.190332 -0.141525  1.171006 -0.655633 -1.147454\n",
              "0.03  2.234081 -0.128409 -0.585277 -0.637265  0.035445\n",
              "0.04 -0.501224  1.496643  0.222879 -0.480471 -0.687910\n",
              "0.05  1.063989 -0.081376 -0.439493 -0.573807 -0.121929\n",
              "0.06  0.067864 -0.090491 -0.524515 -0.698700  1.768381\n",
              "0.07  1.229612 -0.661683  0.410137 -0.535807 -0.240995\n",
              "0.08  0.179241 -0.985614  1.121628 -0.792414  1.277010\n",
              "0.09  2.365290 -0.186303 -0.081943 -0.450492  3.670586"
            ]
          },
          "metadata": {
            "tags": []
          },
          "execution_count": 67
        }
      ]
    },
    {
      "cell_type": "markdown",
      "metadata": {
        "colab_type": "text",
        "id": "FkiOcGj0GuG3"
      },
      "source": [
        "#### Преобразование с использованием медианы"
      ]
    },
    {
      "cell_type": "markdown",
      "metadata": {
        "colab_type": "text",
        "id": "A5d9FUeTS-WD"
      },
      "source": [
        "Получить коэффициент эксцесса размера очереди"
      ]
    },
    {
      "cell_type": "code",
      "metadata": {
        "colab_type": "code",
        "id": "7xWkS7XUS-WM",
        "colab": {}
      },
      "source": [
        "t = p2em_grouped.apply(pd.DataFrame.kurt)"
      ],
      "execution_count": 0,
      "outputs": []
    },
    {
      "cell_type": "markdown",
      "metadata": {
        "colab_type": "text",
        "id": "RB2V7VWES-WT"
      },
      "source": [
        "Добавть сведения о коэффициенте эксцесса в сводную таблицу"
      ]
    },
    {
      "cell_type": "code",
      "metadata": {
        "colab_type": "code",
        "id": "s1NW0yolS-WU",
        "colab": {}
      },
      "source": [
        "p2em_stats['kurtosis'] = t['enqueued']"
      ],
      "execution_count": 0,
      "outputs": []
    },
    {
      "cell_type": "markdown",
      "metadata": {
        "colab_type": "text",
        "id": "uPlbi33JS-WX"
      },
      "source": [
        "Отобразить сведения о коэффициенте экцесса в таблице"
      ]
    },
    {
      "cell_type": "code",
      "metadata": {
        "colab_type": "code",
        "outputId": "42e8890e-179f-4ced-d862-20c85caf085a",
        "id": "dbBzbsFYGyFg",
        "colab": {
          "base_uri": "https://localhost:8080/",
          "height": 359
        }
      },
      "source": [
        "get_compact_table(t)"
      ],
      "execution_count": 70,
      "outputs": [
        {
          "output_type": "execute_result",
          "data": {
            "text/html": [
              "<div>\n",
              "<style scoped>\n",
              "    .dataframe tbody tr th:only-of-type {\n",
              "        vertical-align: middle;\n",
              "    }\n",
              "\n",
              "    .dataframe tbody tr th {\n",
              "        vertical-align: top;\n",
              "    }\n",
              "\n",
              "    .dataframe thead th {\n",
              "        text-align: right;\n",
              "    }\n",
              "</style>\n",
              "<table border=\"1\" class=\"dataframe\">\n",
              "  <thead>\n",
              "    <tr style=\"text-align: right;\">\n",
              "      <th></th>\n",
              "      <th>0.5</th>\n",
              "      <th>0.6</th>\n",
              "      <th>0.7</th>\n",
              "      <th>0.8</th>\n",
              "      <th>0.9</th>\n",
              "    </tr>\n",
              "  </thead>\n",
              "  <tbody>\n",
              "    <tr>\n",
              "      <th>0.00</th>\n",
              "      <td>-0.172626</td>\n",
              "      <td>1.952531</td>\n",
              "      <td>4.937098</td>\n",
              "      <td>4.107746</td>\n",
              "      <td>1.484810</td>\n",
              "    </tr>\n",
              "    <tr>\n",
              "      <th>0.01</th>\n",
              "      <td>1.137302</td>\n",
              "      <td>-0.132619</td>\n",
              "      <td>4.620175</td>\n",
              "      <td>0.451923</td>\n",
              "      <td>1.004068</td>\n",
              "    </tr>\n",
              "    <tr>\n",
              "      <th>0.02</th>\n",
              "      <td>-0.334707</td>\n",
              "      <td>2.238794</td>\n",
              "      <td>0.667888</td>\n",
              "      <td>3.739520</td>\n",
              "      <td>3.310503</td>\n",
              "    </tr>\n",
              "    <tr>\n",
              "      <th>0.03</th>\n",
              "      <td>2.160534</td>\n",
              "      <td>-0.404052</td>\n",
              "      <td>0.403441</td>\n",
              "      <td>15.247074</td>\n",
              "      <td>1.388021</td>\n",
              "    </tr>\n",
              "    <tr>\n",
              "      <th>0.04</th>\n",
              "      <td>-0.033427</td>\n",
              "      <td>3.259285</td>\n",
              "      <td>0.938685</td>\n",
              "      <td>4.135456</td>\n",
              "      <td>0.710579</td>\n",
              "    </tr>\n",
              "    <tr>\n",
              "      <th>0.05</th>\n",
              "      <td>2.255203</td>\n",
              "      <td>0.882064</td>\n",
              "      <td>3.642131</td>\n",
              "      <td>1.137527</td>\n",
              "      <td>-0.332920</td>\n",
              "    </tr>\n",
              "    <tr>\n",
              "      <th>0.06</th>\n",
              "      <td>1.064713</td>\n",
              "      <td>0.704722</td>\n",
              "      <td>1.873265</td>\n",
              "      <td>1.058722</td>\n",
              "      <td>-0.174322</td>\n",
              "    </tr>\n",
              "    <tr>\n",
              "      <th>0.07</th>\n",
              "      <td>1.307147</td>\n",
              "      <td>2.140089</td>\n",
              "      <td>1.068211</td>\n",
              "      <td>0.366564</td>\n",
              "      <td>1.123331</td>\n",
              "    </tr>\n",
              "    <tr>\n",
              "      <th>0.08</th>\n",
              "      <td>1.185327</td>\n",
              "      <td>0.802028</td>\n",
              "      <td>1.565537</td>\n",
              "      <td>2.049327</td>\n",
              "      <td>2.710231</td>\n",
              "    </tr>\n",
              "    <tr>\n",
              "      <th>0.09</th>\n",
              "      <td>1.695533</td>\n",
              "      <td>1.470520</td>\n",
              "      <td>3.145600</td>\n",
              "      <td>1.244795</td>\n",
              "      <td>1.855289</td>\n",
              "    </tr>\n",
              "  </tbody>\n",
              "</table>\n",
              "</div>"
            ],
            "text/plain": [
              "           0.5       0.6       0.7        0.8       0.9\n",
              "0.00 -0.172626  1.952531  4.937098   4.107746  1.484810\n",
              "0.01  1.137302 -0.132619  4.620175   0.451923  1.004068\n",
              "0.02 -0.334707  2.238794  0.667888   3.739520  3.310503\n",
              "0.03  2.160534 -0.404052  0.403441  15.247074  1.388021\n",
              "0.04 -0.033427  3.259285  0.938685   4.135456  0.710579\n",
              "0.05  2.255203  0.882064  3.642131   1.137527 -0.332920\n",
              "0.06  1.064713  0.704722  1.873265   1.058722 -0.174322\n",
              "0.07  1.307147  2.140089  1.068211   0.366564  1.123331\n",
              "0.08  1.185327  0.802028  1.565537   2.049327  2.710231\n",
              "0.09  1.695533  1.470520  3.145600   1.244795  1.855289"
            ]
          },
          "metadata": {
            "tags": []
          },
          "execution_count": 70
        }
      ]
    },
    {
      "cell_type": "markdown",
      "metadata": {
        "id": "2PpVESR2Rhij",
        "colab_type": "text"
      },
      "source": [
        "## Проверка размера очереди на нормальное распределение"
      ]
    },
    {
      "cell_type": "markdown",
      "metadata": {
        "id": "khMxfhuSRrOS",
        "colab_type": "text"
      },
      "source": [
        "### Тест Шапиро-Уилка (Shapiro-Wilk)"
      ]
    },
    {
      "cell_type": "markdown",
      "metadata": {
        "colab_type": "text",
        "id": "3d46gcNKR_dP"
      },
      "source": [
        "#### Преобразование с использованием математического ожидания"
      ]
    },
    {
      "cell_type": "markdown",
      "metadata": {
        "colab_type": "text",
        "id": "en81XgZlSNKO"
      },
      "source": [
        "Использовать тест Шапиро-Уилка для сформированных групп"
      ]
    },
    {
      "cell_type": "code",
      "metadata": {
        "id": "BhY2Z1loSJW8",
        "colab_type": "code",
        "colab": {}
      },
      "source": [
        "t = p2ee_grouped.apply(\n",
        "    lambda x: pd.Series(stats.shapiro(x), index=['W', 'P'])\n",
        ")"
      ],
      "execution_count": 0,
      "outputs": []
    },
    {
      "cell_type": "markdown",
      "metadata": {
        "colab_type": "text",
        "id": "okEiceA_TovR"
      },
      "source": [
        "Создать сводную таблицу для преобразования с использованием математического ожидания"
      ]
    },
    {
      "cell_type": "code",
      "metadata": {
        "id": "jvLGIWysTuOg",
        "colab_type": "code",
        "colab": {}
      },
      "source": [
        "p2ee_norm = t.copy()"
      ],
      "execution_count": 0,
      "outputs": []
    },
    {
      "cell_type": "code",
      "metadata": {
        "colab_type": "code",
        "id": "woMZHyQYUa1f",
        "colab": {}
      },
      "source": [
        "p2ee_norm.set_axis(['sw_w', 'sw_p'], axis='columns', inplace=True)"
      ],
      "execution_count": 0,
      "outputs": []
    },
    {
      "cell_type": "markdown",
      "metadata": {
        "colab_type": "text",
        "id": "IMEBgNMWU7Tt"
      },
      "source": [
        "Отобразить сведения о статистике $W$ теста"
      ]
    },
    {
      "cell_type": "code",
      "metadata": {
        "id": "toASxEIWVFnY",
        "colab_type": "code",
        "outputId": "3791fe3c-be90-4d73-bc4c-1a4d262555a0",
        "colab": {
          "base_uri": "https://localhost:8080/",
          "height": 359
        }
      },
      "source": [
        "get_compact_table(t['W'].to_frame())"
      ],
      "execution_count": 74,
      "outputs": [
        {
          "output_type": "execute_result",
          "data": {
            "text/html": [
              "<div>\n",
              "<style scoped>\n",
              "    .dataframe tbody tr th:only-of-type {\n",
              "        vertical-align: middle;\n",
              "    }\n",
              "\n",
              "    .dataframe tbody tr th {\n",
              "        vertical-align: top;\n",
              "    }\n",
              "\n",
              "    .dataframe thead th {\n",
              "        text-align: right;\n",
              "    }\n",
              "</style>\n",
              "<table border=\"1\" class=\"dataframe\">\n",
              "  <thead>\n",
              "    <tr style=\"text-align: right;\">\n",
              "      <th></th>\n",
              "      <th>0.5</th>\n",
              "      <th>0.6</th>\n",
              "      <th>0.7</th>\n",
              "      <th>0.8</th>\n",
              "      <th>0.9</th>\n",
              "    </tr>\n",
              "  </thead>\n",
              "  <tbody>\n",
              "    <tr>\n",
              "      <th>0.00</th>\n",
              "      <td>0.935537</td>\n",
              "      <td>0.967057</td>\n",
              "      <td>0.963646</td>\n",
              "      <td>0.975216</td>\n",
              "      <td>0.983094</td>\n",
              "    </tr>\n",
              "    <tr>\n",
              "      <th>0.01</th>\n",
              "      <td>0.933924</td>\n",
              "      <td>0.968081</td>\n",
              "      <td>0.949105</td>\n",
              "      <td>0.967889</td>\n",
              "      <td>0.966395</td>\n",
              "    </tr>\n",
              "    <tr>\n",
              "      <th>0.02</th>\n",
              "      <td>0.954169</td>\n",
              "      <td>0.936356</td>\n",
              "      <td>0.964520</td>\n",
              "      <td>0.974695</td>\n",
              "      <td>0.960085</td>\n",
              "    </tr>\n",
              "    <tr>\n",
              "      <th>0.03</th>\n",
              "      <td>0.920487</td>\n",
              "      <td>0.960860</td>\n",
              "      <td>0.950318</td>\n",
              "      <td>0.982503</td>\n",
              "      <td>0.975067</td>\n",
              "    </tr>\n",
              "    <tr>\n",
              "      <th>0.04</th>\n",
              "      <td>0.968882</td>\n",
              "      <td>0.939759</td>\n",
              "      <td>0.962433</td>\n",
              "      <td>0.986144</td>\n",
              "      <td>0.974368</td>\n",
              "    </tr>\n",
              "    <tr>\n",
              "      <th>0.05</th>\n",
              "      <td>0.934902</td>\n",
              "      <td>0.960791</td>\n",
              "      <td>0.968387</td>\n",
              "      <td>0.987924</td>\n",
              "      <td>0.967810</td>\n",
              "    </tr>\n",
              "    <tr>\n",
              "      <th>0.06</th>\n",
              "      <td>0.962721</td>\n",
              "      <td>0.948638</td>\n",
              "      <td>0.963576</td>\n",
              "      <td>0.967597</td>\n",
              "      <td>0.950342</td>\n",
              "    </tr>\n",
              "    <tr>\n",
              "      <th>0.07</th>\n",
              "      <td>0.934528</td>\n",
              "      <td>0.955846</td>\n",
              "      <td>0.964659</td>\n",
              "      <td>0.990983</td>\n",
              "      <td>0.923817</td>\n",
              "    </tr>\n",
              "    <tr>\n",
              "      <th>0.08</th>\n",
              "      <td>0.943287</td>\n",
              "      <td>0.969013</td>\n",
              "      <td>0.945746</td>\n",
              "      <td>0.983167</td>\n",
              "      <td>0.901604</td>\n",
              "    </tr>\n",
              "    <tr>\n",
              "      <th>0.09</th>\n",
              "      <td>0.900194</td>\n",
              "      <td>0.974958</td>\n",
              "      <td>0.981526</td>\n",
              "      <td>0.966927</td>\n",
              "      <td>0.790781</td>\n",
              "    </tr>\n",
              "  </tbody>\n",
              "</table>\n",
              "</div>"
            ],
            "text/plain": [
              "           0.5       0.6       0.7       0.8       0.9\n",
              "0.00  0.935537  0.967057  0.963646  0.975216  0.983094\n",
              "0.01  0.933924  0.968081  0.949105  0.967889  0.966395\n",
              "0.02  0.954169  0.936356  0.964520  0.974695  0.960085\n",
              "0.03  0.920487  0.960860  0.950318  0.982503  0.975067\n",
              "0.04  0.968882  0.939759  0.962433  0.986144  0.974368\n",
              "0.05  0.934902  0.960791  0.968387  0.987924  0.967810\n",
              "0.06  0.962721  0.948638  0.963576  0.967597  0.950342\n",
              "0.07  0.934528  0.955846  0.964659  0.990983  0.923817\n",
              "0.08  0.943287  0.969013  0.945746  0.983167  0.901604\n",
              "0.09  0.900194  0.974958  0.981526  0.966927  0.790781"
            ]
          },
          "metadata": {
            "tags": []
          },
          "execution_count": 74
        }
      ]
    },
    {
      "cell_type": "markdown",
      "metadata": {
        "id": "jyier163WBjU",
        "colab_type": "text"
      },
      "source": [
        "Отобразить сведения о $p$-уровне значимости"
      ]
    },
    {
      "cell_type": "code",
      "metadata": {
        "id": "lOsLeLuDWJsn",
        "colab_type": "code",
        "outputId": "acf452ec-f408-4e21-df72-426e47634399",
        "colab": {
          "base_uri": "https://localhost:8080/",
          "height": 359
        }
      },
      "source": [
        "get_compact_table(t['P'].to_frame())"
      ],
      "execution_count": 75,
      "outputs": [
        {
          "output_type": "execute_result",
          "data": {
            "text/html": [
              "<div>\n",
              "<style scoped>\n",
              "    .dataframe tbody tr th:only-of-type {\n",
              "        vertical-align: middle;\n",
              "    }\n",
              "\n",
              "    .dataframe tbody tr th {\n",
              "        vertical-align: top;\n",
              "    }\n",
              "\n",
              "    .dataframe thead th {\n",
              "        text-align: right;\n",
              "    }\n",
              "</style>\n",
              "<table border=\"1\" class=\"dataframe\">\n",
              "  <thead>\n",
              "    <tr style=\"text-align: right;\">\n",
              "      <th></th>\n",
              "      <th>0.5</th>\n",
              "      <th>0.6</th>\n",
              "      <th>0.7</th>\n",
              "      <th>0.8</th>\n",
              "      <th>0.9</th>\n",
              "    </tr>\n",
              "  </thead>\n",
              "  <tbody>\n",
              "    <tr>\n",
              "      <th>0.00</th>\n",
              "      <td>0.000096</td>\n",
              "      <td>0.014631</td>\n",
              "      <td>0.009199</td>\n",
              "      <td>0.060658</td>\n",
              "      <td>2.354968e-01</td>\n",
              "    </tr>\n",
              "    <tr>\n",
              "      <th>0.01</th>\n",
              "      <td>0.000084</td>\n",
              "      <td>0.017431</td>\n",
              "      <td>0.000960</td>\n",
              "      <td>0.017729</td>\n",
              "      <td>1.179249e-02</td>\n",
              "    </tr>\n",
              "    <tr>\n",
              "      <th>0.02</th>\n",
              "      <td>0.001684</td>\n",
              "      <td>0.000148</td>\n",
              "      <td>0.009530</td>\n",
              "      <td>0.057562</td>\n",
              "      <td>4.325712e-03</td>\n",
              "    </tr>\n",
              "    <tr>\n",
              "      <th>0.03</th>\n",
              "      <td>0.000020</td>\n",
              "      <td>0.005206</td>\n",
              "      <td>0.001071</td>\n",
              "      <td>0.224110</td>\n",
              "      <td>6.144390e-02</td>\n",
              "    </tr>\n",
              "    <tr>\n",
              "      <th>0.04</th>\n",
              "      <td>0.019062</td>\n",
              "      <td>0.000255</td>\n",
              "      <td>0.006738</td>\n",
              "      <td>0.397116</td>\n",
              "      <td>5.659778e-02</td>\n",
              "    </tr>\n",
              "    <tr>\n",
              "      <th>0.05</th>\n",
              "      <td>0.000104</td>\n",
              "      <td>0.005458</td>\n",
              "      <td>0.018373</td>\n",
              "      <td>0.510056</td>\n",
              "      <td>1.838621e-02</td>\n",
              "    </tr>\n",
              "    <tr>\n",
              "      <th>0.06</th>\n",
              "      <td>0.006680</td>\n",
              "      <td>0.000725</td>\n",
              "      <td>0.008605</td>\n",
              "      <td>0.015262</td>\n",
              "      <td>1.152679e-03</td>\n",
              "    </tr>\n",
              "    <tr>\n",
              "      <th>0.07</th>\n",
              "      <td>0.000107</td>\n",
              "      <td>0.002654</td>\n",
              "      <td>0.009756</td>\n",
              "      <td>0.755288</td>\n",
              "      <td>3.233686e-05</td>\n",
              "    </tr>\n",
              "    <tr>\n",
              "      <th>0.08</th>\n",
              "      <td>0.000358</td>\n",
              "      <td>0.019502</td>\n",
              "      <td>0.000509</td>\n",
              "      <td>0.244454</td>\n",
              "      <td>2.066198e-06</td>\n",
              "    </tr>\n",
              "    <tr>\n",
              "      <th>0.09</th>\n",
              "      <td>0.000002</td>\n",
              "      <td>0.065231</td>\n",
              "      <td>0.179450</td>\n",
              "      <td>0.015062</td>\n",
              "      <td>2.315214e-10</td>\n",
              "    </tr>\n",
              "  </tbody>\n",
              "</table>\n",
              "</div>"
            ],
            "text/plain": [
              "           0.5       0.6       0.7       0.8           0.9\n",
              "0.00  0.000096  0.014631  0.009199  0.060658  2.354968e-01\n",
              "0.01  0.000084  0.017431  0.000960  0.017729  1.179249e-02\n",
              "0.02  0.001684  0.000148  0.009530  0.057562  4.325712e-03\n",
              "0.03  0.000020  0.005206  0.001071  0.224110  6.144390e-02\n",
              "0.04  0.019062  0.000255  0.006738  0.397116  5.659778e-02\n",
              "0.05  0.000104  0.005458  0.018373  0.510056  1.838621e-02\n",
              "0.06  0.006680  0.000725  0.008605  0.015262  1.152679e-03\n",
              "0.07  0.000107  0.002654  0.009756  0.755288  3.233686e-05\n",
              "0.08  0.000358  0.019502  0.000509  0.244454  2.066198e-06\n",
              "0.09  0.000002  0.065231  0.179450  0.015062  2.315214e-10"
            ]
          },
          "metadata": {
            "tags": []
          },
          "execution_count": 75
        }
      ]
    },
    {
      "cell_type": "markdown",
      "metadata": {
        "colab_type": "text",
        "id": "mI8q_0bIZldH"
      },
      "source": [
        "#### Преобразование с использованием медианы"
      ]
    },
    {
      "cell_type": "markdown",
      "metadata": {
        "colab_type": "text",
        "id": "TQ4Ngu-cZrbt"
      },
      "source": [
        "Использовать тест Шапиро-Уилка для сформированных групп"
      ]
    },
    {
      "cell_type": "code",
      "metadata": {
        "colab_type": "code",
        "id": "5owJGveHZrbw",
        "colab": {}
      },
      "source": [
        "t = p2em_grouped.apply(\n",
        "    lambda x: pd.Series(stats.shapiro(x), index=['W', 'P'])\n",
        ")"
      ],
      "execution_count": 0,
      "outputs": []
    },
    {
      "cell_type": "markdown",
      "metadata": {
        "colab_type": "text",
        "id": "OMy8TeF6Zrbz"
      },
      "source": [
        "Создать сводную таблицу для преобразования с использованием математического ожидания"
      ]
    },
    {
      "cell_type": "code",
      "metadata": {
        "colab_type": "code",
        "id": "E9iGTjikZrb0",
        "colab": {}
      },
      "source": [
        "p2em_norm = t.copy()"
      ],
      "execution_count": 0,
      "outputs": []
    },
    {
      "cell_type": "code",
      "metadata": {
        "colab_type": "code",
        "id": "z57vaQaYZrb3",
        "colab": {}
      },
      "source": [
        "p2em_norm.set_axis(['sw_w', 'sw_p'], axis='columns', inplace=True)"
      ],
      "execution_count": 0,
      "outputs": []
    },
    {
      "cell_type": "markdown",
      "metadata": {
        "colab_type": "text",
        "id": "QL0hA-ZBZrb6"
      },
      "source": [
        "Отобразить сведения о статистике $W$ теста"
      ]
    },
    {
      "cell_type": "code",
      "metadata": {
        "colab_type": "code",
        "outputId": "ff4061d9-d6bd-41f5-f3e6-6aad9b34ab34",
        "id": "VA0yXB9vZrb7",
        "colab": {
          "base_uri": "https://localhost:8080/",
          "height": 359
        }
      },
      "source": [
        "get_compact_table(t['W'].to_frame())"
      ],
      "execution_count": 79,
      "outputs": [
        {
          "output_type": "execute_result",
          "data": {
            "text/html": [
              "<div>\n",
              "<style scoped>\n",
              "    .dataframe tbody tr th:only-of-type {\n",
              "        vertical-align: middle;\n",
              "    }\n",
              "\n",
              "    .dataframe tbody tr th {\n",
              "        vertical-align: top;\n",
              "    }\n",
              "\n",
              "    .dataframe thead th {\n",
              "        text-align: right;\n",
              "    }\n",
              "</style>\n",
              "<table border=\"1\" class=\"dataframe\">\n",
              "  <thead>\n",
              "    <tr style=\"text-align: right;\">\n",
              "      <th></th>\n",
              "      <th>0.5</th>\n",
              "      <th>0.6</th>\n",
              "      <th>0.7</th>\n",
              "      <th>0.8</th>\n",
              "      <th>0.9</th>\n",
              "    </tr>\n",
              "  </thead>\n",
              "  <tbody>\n",
              "    <tr>\n",
              "      <th>0.00</th>\n",
              "      <td>0.946332</td>\n",
              "      <td>0.908734</td>\n",
              "      <td>0.858629</td>\n",
              "      <td>0.901782</td>\n",
              "      <td>0.960309</td>\n",
              "    </tr>\n",
              "    <tr>\n",
              "      <th>0.01</th>\n",
              "      <td>0.938601</td>\n",
              "      <td>0.944828</td>\n",
              "      <td>0.846145</td>\n",
              "      <td>0.917301</td>\n",
              "      <td>0.940809</td>\n",
              "    </tr>\n",
              "    <tr>\n",
              "      <th>0.02</th>\n",
              "      <td>0.971700</td>\n",
              "      <td>0.905476</td>\n",
              "      <td>0.945620</td>\n",
              "      <td>0.897183</td>\n",
              "      <td>0.913880</td>\n",
              "    </tr>\n",
              "    <tr>\n",
              "      <th>0.03</th>\n",
              "      <td>0.923133</td>\n",
              "      <td>0.947278</td>\n",
              "      <td>0.942583</td>\n",
              "      <td>0.784550</td>\n",
              "      <td>0.929546</td>\n",
              "    </tr>\n",
              "    <tr>\n",
              "      <th>0.04</th>\n",
              "      <td>0.935392</td>\n",
              "      <td>0.880318</td>\n",
              "      <td>0.905756</td>\n",
              "      <td>0.884001</td>\n",
              "      <td>0.913360</td>\n",
              "    </tr>\n",
              "    <tr>\n",
              "      <th>0.05</th>\n",
              "      <td>0.954567</td>\n",
              "      <td>0.924192</td>\n",
              "      <td>0.918831</td>\n",
              "      <td>0.944464</td>\n",
              "      <td>0.951279</td>\n",
              "    </tr>\n",
              "    <tr>\n",
              "      <th>0.06</th>\n",
              "      <td>0.890841</td>\n",
              "      <td>0.953997</td>\n",
              "      <td>0.926677</td>\n",
              "      <td>0.924667</td>\n",
              "      <td>0.956059</td>\n",
              "    </tr>\n",
              "    <tr>\n",
              "      <th>0.07</th>\n",
              "      <td>0.904258</td>\n",
              "      <td>0.939364</td>\n",
              "      <td>0.924123</td>\n",
              "      <td>0.924455</td>\n",
              "      <td>0.935151</td>\n",
              "    </tr>\n",
              "    <tr>\n",
              "      <th>0.08</th>\n",
              "      <td>0.910585</td>\n",
              "      <td>0.945994</td>\n",
              "      <td>0.942825</td>\n",
              "      <td>0.903233</td>\n",
              "      <td>0.905617</td>\n",
              "    </tr>\n",
              "    <tr>\n",
              "      <th>0.09</th>\n",
              "      <td>0.905621</td>\n",
              "      <td>0.926942</td>\n",
              "      <td>0.932267</td>\n",
              "      <td>0.945743</td>\n",
              "      <td>0.914684</td>\n",
              "    </tr>\n",
              "  </tbody>\n",
              "</table>\n",
              "</div>"
            ],
            "text/plain": [
              "           0.5       0.6       0.7       0.8       0.9\n",
              "0.00  0.946332  0.908734  0.858629  0.901782  0.960309\n",
              "0.01  0.938601  0.944828  0.846145  0.917301  0.940809\n",
              "0.02  0.971700  0.905476  0.945620  0.897183  0.913880\n",
              "0.03  0.923133  0.947278  0.942583  0.784550  0.929546\n",
              "0.04  0.935392  0.880318  0.905756  0.884001  0.913360\n",
              "0.05  0.954567  0.924192  0.918831  0.944464  0.951279\n",
              "0.06  0.890841  0.953997  0.926677  0.924667  0.956059\n",
              "0.07  0.904258  0.939364  0.924123  0.924455  0.935151\n",
              "0.08  0.910585  0.945994  0.942825  0.903233  0.905617\n",
              "0.09  0.905621  0.926942  0.932267  0.945743  0.914684"
            ]
          },
          "metadata": {
            "tags": []
          },
          "execution_count": 79
        }
      ]
    },
    {
      "cell_type": "markdown",
      "metadata": {
        "colab_type": "text",
        "id": "5RxI4pX8Zrb_"
      },
      "source": [
        "Отобразить сведения о $p$-уровне значимости"
      ]
    },
    {
      "cell_type": "code",
      "metadata": {
        "colab_type": "code",
        "outputId": "58aaae4a-04b1-43ad-e263-d58a76a0e044",
        "id": "9iEOuOHHZrcA",
        "colab": {
          "base_uri": "https://localhost:8080/",
          "height": 359
        }
      },
      "source": [
        "get_compact_table(t['P'].to_frame())"
      ],
      "execution_count": 80,
      "outputs": [
        {
          "output_type": "execute_result",
          "data": {
            "text/html": [
              "<div>\n",
              "<style scoped>\n",
              "    .dataframe tbody tr th:only-of-type {\n",
              "        vertical-align: middle;\n",
              "    }\n",
              "\n",
              "    .dataframe tbody tr th {\n",
              "        vertical-align: top;\n",
              "    }\n",
              "\n",
              "    .dataframe thead th {\n",
              "        text-align: right;\n",
              "    }\n",
              "</style>\n",
              "<table border=\"1\" class=\"dataframe\">\n",
              "  <thead>\n",
              "    <tr style=\"text-align: right;\">\n",
              "      <th></th>\n",
              "      <th>0.5</th>\n",
              "      <th>0.6</th>\n",
              "      <th>0.7</th>\n",
              "      <th>0.8</th>\n",
              "      <th>0.9</th>\n",
              "    </tr>\n",
              "  </thead>\n",
              "  <tbody>\n",
              "    <tr>\n",
              "      <th>0.00</th>\n",
              "      <td>6.417620e-04</td>\n",
              "      <td>4.541606e-06</td>\n",
              "      <td>2.827033e-08</td>\n",
              "      <td>1.900974e-06</td>\n",
              "      <td>0.004231</td>\n",
              "    </tr>\n",
              "    <tr>\n",
              "      <th>0.01</th>\n",
              "      <td>2.177777e-04</td>\n",
              "      <td>4.458973e-04</td>\n",
              "      <td>1.102134e-08</td>\n",
              "      <td>1.114549e-05</td>\n",
              "      <td>0.000216</td>\n",
              "    </tr>\n",
              "    <tr>\n",
              "      <th>0.02</th>\n",
              "      <td>3.568222e-02</td>\n",
              "      <td>3.865204e-06</td>\n",
              "      <td>5.381641e-04</td>\n",
              "      <td>2.442639e-06</td>\n",
              "      <td>0.000008</td>\n",
              "    </tr>\n",
              "    <tr>\n",
              "      <th>0.03</th>\n",
              "      <td>3.258498e-05</td>\n",
              "      <td>7.910236e-04</td>\n",
              "      <td>3.770268e-04</td>\n",
              "      <td>9.854698e-11</td>\n",
              "      <td>0.000056</td>\n",
              "    </tr>\n",
              "    <tr>\n",
              "      <th>0.04</th>\n",
              "      <td>1.415474e-04</td>\n",
              "      <td>2.626890e-07</td>\n",
              "      <td>3.985418e-06</td>\n",
              "      <td>3.359689e-07</td>\n",
              "      <td>0.000006</td>\n",
              "    </tr>\n",
              "    <tr>\n",
              "      <th>0.05</th>\n",
              "      <td>2.485297e-03</td>\n",
              "      <td>3.707230e-05</td>\n",
              "      <td>1.946693e-05</td>\n",
              "      <td>4.231952e-04</td>\n",
              "      <td>0.001155</td>\n",
              "    </tr>\n",
              "    <tr>\n",
              "      <th>0.06</th>\n",
              "      <td>8.291420e-07</td>\n",
              "      <td>1.869920e-03</td>\n",
              "      <td>3.536593e-05</td>\n",
              "      <td>3.000401e-05</td>\n",
              "      <td>0.002127</td>\n",
              "    </tr>\n",
              "    <tr>\n",
              "      <th>0.07</th>\n",
              "      <td>3.749399e-06</td>\n",
              "      <td>2.063229e-04</td>\n",
              "      <td>2.804166e-05</td>\n",
              "      <td>2.672289e-05</td>\n",
              "      <td>0.000116</td>\n",
              "    </tr>\n",
              "    <tr>\n",
              "      <th>0.08</th>\n",
              "      <td>7.531471e-06</td>\n",
              "      <td>5.277736e-04</td>\n",
              "      <td>3.613882e-04</td>\n",
              "      <td>2.732106e-06</td>\n",
              "      <td>0.000003</td>\n",
              "    </tr>\n",
              "    <tr>\n",
              "      <th>0.09</th>\n",
              "      <td>3.548119e-06</td>\n",
              "      <td>3.351686e-05</td>\n",
              "      <td>8.630421e-05</td>\n",
              "      <td>4.729513e-04</td>\n",
              "      <td>0.000007</td>\n",
              "    </tr>\n",
              "  </tbody>\n",
              "</table>\n",
              "</div>"
            ],
            "text/plain": [
              "               0.5           0.6           0.7           0.8       0.9\n",
              "0.00  6.417620e-04  4.541606e-06  2.827033e-08  1.900974e-06  0.004231\n",
              "0.01  2.177777e-04  4.458973e-04  1.102134e-08  1.114549e-05  0.000216\n",
              "0.02  3.568222e-02  3.865204e-06  5.381641e-04  2.442639e-06  0.000008\n",
              "0.03  3.258498e-05  7.910236e-04  3.770268e-04  9.854698e-11  0.000056\n",
              "0.04  1.415474e-04  2.626890e-07  3.985418e-06  3.359689e-07  0.000006\n",
              "0.05  2.485297e-03  3.707230e-05  1.946693e-05  4.231952e-04  0.001155\n",
              "0.06  8.291420e-07  1.869920e-03  3.536593e-05  3.000401e-05  0.002127\n",
              "0.07  3.749399e-06  2.063229e-04  2.804166e-05  2.672289e-05  0.000116\n",
              "0.08  7.531471e-06  5.277736e-04  3.613882e-04  2.732106e-06  0.000003\n",
              "0.09  3.548119e-06  3.351686e-05  8.630421e-05  4.729513e-04  0.000007"
            ]
          },
          "metadata": {
            "tags": []
          },
          "execution_count": 80
        }
      ]
    },
    {
      "cell_type": "markdown",
      "metadata": {
        "id": "Tcsz_-ZBau78",
        "colab_type": "text"
      },
      "source": [
        "### Тест д'Агостино на $k^2$ (d'Agostino $k^2$)"
      ]
    },
    {
      "cell_type": "markdown",
      "metadata": {
        "colab_type": "text",
        "id": "M8d1nYbKepZa"
      },
      "source": [
        "#### Преобразование с использованием математического ожидания"
      ]
    },
    {
      "cell_type": "markdown",
      "metadata": {
        "colab_type": "text",
        "id": "JHUJlqDWb4Nl"
      },
      "source": [
        "Использовать тест д'Агостино на $k^2$ для сформированных групп"
      ]
    },
    {
      "cell_type": "code",
      "metadata": {
        "colab_type": "code",
        "id": "mSaytC-Rb4Ns",
        "colab": {}
      },
      "source": [
        "t = p2ee_grouped.apply(\n",
        "    lambda x: pd.Series(stats.normaltest(x), index=['S', 'P'])\n",
        ")"
      ],
      "execution_count": 0,
      "outputs": []
    },
    {
      "cell_type": "markdown",
      "metadata": {
        "colab_type": "text",
        "id": "GImM3dUDci46"
      },
      "source": [
        "Добавть сведения о результатах теста в сводную таблицу"
      ]
    },
    {
      "cell_type": "code",
      "metadata": {
        "id": "v5oVY95YcsR0",
        "colab_type": "code",
        "colab": {}
      },
      "source": [
        "p2ee_norm['ak2_s2k2'] = t['S']\n",
        "p2ee_norm['ak2_p'] = t['P']"
      ],
      "execution_count": 0,
      "outputs": []
    },
    {
      "cell_type": "markdown",
      "metadata": {
        "colab_type": "text",
        "id": "4cJ39Mu1dtWZ"
      },
      "source": [
        "Отобразить сведения о статистике $s^2 + k^2$ теста"
      ]
    },
    {
      "cell_type": "code",
      "metadata": {
        "id": "EESF_P95dufO",
        "colab_type": "code",
        "outputId": "0b8224c7-572f-4093-fb41-06125f1b8b55",
        "colab": {
          "base_uri": "https://localhost:8080/",
          "height": 359
        }
      },
      "source": [
        "get_compact_table(t['S'].to_frame())"
      ],
      "execution_count": 83,
      "outputs": [
        {
          "output_type": "execute_result",
          "data": {
            "text/html": [
              "<div>\n",
              "<style scoped>\n",
              "    .dataframe tbody tr th:only-of-type {\n",
              "        vertical-align: middle;\n",
              "    }\n",
              "\n",
              "    .dataframe tbody tr th {\n",
              "        vertical-align: top;\n",
              "    }\n",
              "\n",
              "    .dataframe thead th {\n",
              "        text-align: right;\n",
              "    }\n",
              "</style>\n",
              "<table border=\"1\" class=\"dataframe\">\n",
              "  <thead>\n",
              "    <tr style=\"text-align: right;\">\n",
              "      <th></th>\n",
              "      <th>0.5</th>\n",
              "      <th>0.6</th>\n",
              "      <th>0.7</th>\n",
              "      <th>0.8</th>\n",
              "      <th>0.9</th>\n",
              "    </tr>\n",
              "  </thead>\n",
              "  <tbody>\n",
              "    <tr>\n",
              "      <th>0.00</th>\n",
              "      <td>10.381331</td>\n",
              "      <td>6.858321</td>\n",
              "      <td>4.547833</td>\n",
              "      <td>5.879735</td>\n",
              "      <td>1.026618</td>\n",
              "    </tr>\n",
              "    <tr>\n",
              "      <th>0.01</th>\n",
              "      <td>8.542717</td>\n",
              "      <td>4.566996</td>\n",
              "      <td>10.647658</td>\n",
              "      <td>6.022835</td>\n",
              "      <td>19.793566</td>\n",
              "    </tr>\n",
              "    <tr>\n",
              "      <th>0.02</th>\n",
              "      <td>6.530509</td>\n",
              "      <td>8.524423</td>\n",
              "      <td>11.829880</td>\n",
              "      <td>4.730924</td>\n",
              "      <td>26.498577</td>\n",
              "    </tr>\n",
              "    <tr>\n",
              "      <th>0.03</th>\n",
              "      <td>25.919752</td>\n",
              "      <td>5.821135</td>\n",
              "      <td>6.632509</td>\n",
              "      <td>2.979742</td>\n",
              "      <td>3.403074</td>\n",
              "    </tr>\n",
              "    <tr>\n",
              "      <th>0.04</th>\n",
              "      <td>3.968565</td>\n",
              "      <td>19.145081</td>\n",
              "      <td>7.339656</td>\n",
              "      <td>2.010147</td>\n",
              "      <td>4.603969</td>\n",
              "    </tr>\n",
              "    <tr>\n",
              "      <th>0.05</th>\n",
              "      <td>17.204252</td>\n",
              "      <td>5.654428</td>\n",
              "      <td>4.268151</td>\n",
              "      <td>2.190275</td>\n",
              "      <td>5.267994</td>\n",
              "    </tr>\n",
              "    <tr>\n",
              "      <th>0.06</th>\n",
              "      <td>6.990290</td>\n",
              "      <td>7.095969</td>\n",
              "      <td>5.351810</td>\n",
              "      <td>6.405510</td>\n",
              "      <td>18.504301</td>\n",
              "    </tr>\n",
              "    <tr>\n",
              "      <th>0.07</th>\n",
              "      <td>18.079456</td>\n",
              "      <td>6.750438</td>\n",
              "      <td>6.153277</td>\n",
              "      <td>1.943724</td>\n",
              "      <td>9.151432</td>\n",
              "    </tr>\n",
              "    <tr>\n",
              "      <th>0.08</th>\n",
              "      <td>9.994780</td>\n",
              "      <td>13.826529</td>\n",
              "      <td>16.182112</td>\n",
              "      <td>6.031303</td>\n",
              "      <td>22.229866</td>\n",
              "    </tr>\n",
              "    <tr>\n",
              "      <th>0.09</th>\n",
              "      <td>29.622475</td>\n",
              "      <td>3.387801</td>\n",
              "      <td>3.300745</td>\n",
              "      <td>3.742306</td>\n",
              "      <td>46.066002</td>\n",
              "    </tr>\n",
              "  </tbody>\n",
              "</table>\n",
              "</div>"
            ],
            "text/plain": [
              "            0.5        0.6        0.7       0.8        0.9\n",
              "0.00  10.381331   6.858321   4.547833  5.879735   1.026618\n",
              "0.01   8.542717   4.566996  10.647658  6.022835  19.793566\n",
              "0.02   6.530509   8.524423  11.829880  4.730924  26.498577\n",
              "0.03  25.919752   5.821135   6.632509  2.979742   3.403074\n",
              "0.04   3.968565  19.145081   7.339656  2.010147   4.603969\n",
              "0.05  17.204252   5.654428   4.268151  2.190275   5.267994\n",
              "0.06   6.990290   7.095969   5.351810  6.405510  18.504301\n",
              "0.07  18.079456   6.750438   6.153277  1.943724   9.151432\n",
              "0.08   9.994780  13.826529  16.182112  6.031303  22.229866\n",
              "0.09  29.622475   3.387801   3.300745  3.742306  46.066002"
            ]
          },
          "metadata": {
            "tags": []
          },
          "execution_count": 83
        }
      ]
    },
    {
      "cell_type": "markdown",
      "metadata": {
        "colab_type": "text",
        "id": "qfjueZPLd_fn"
      },
      "source": [
        "Отобразить сведения о $p$-уровне значимости"
      ]
    },
    {
      "cell_type": "code",
      "metadata": {
        "id": "VCw4UJCceBJI",
        "colab_type": "code",
        "outputId": "5e7b7a5a-91cc-4df8-a389-51a37fcb6b84",
        "colab": {
          "base_uri": "https://localhost:8080/",
          "height": 359
        }
      },
      "source": [
        "get_compact_table(t['P'].to_frame())"
      ],
      "execution_count": 84,
      "outputs": [
        {
          "output_type": "execute_result",
          "data": {
            "text/html": [
              "<div>\n",
              "<style scoped>\n",
              "    .dataframe tbody tr th:only-of-type {\n",
              "        vertical-align: middle;\n",
              "    }\n",
              "\n",
              "    .dataframe tbody tr th {\n",
              "        vertical-align: top;\n",
              "    }\n",
              "\n",
              "    .dataframe thead th {\n",
              "        text-align: right;\n",
              "    }\n",
              "</style>\n",
              "<table border=\"1\" class=\"dataframe\">\n",
              "  <thead>\n",
              "    <tr style=\"text-align: right;\">\n",
              "      <th></th>\n",
              "      <th>0.5</th>\n",
              "      <th>0.6</th>\n",
              "      <th>0.7</th>\n",
              "      <th>0.8</th>\n",
              "      <th>0.9</th>\n",
              "    </tr>\n",
              "  </thead>\n",
              "  <tbody>\n",
              "    <tr>\n",
              "      <th>0.00</th>\n",
              "      <td>5.568299e-03</td>\n",
              "      <td>0.032414</td>\n",
              "      <td>0.102908</td>\n",
              "      <td>0.052873</td>\n",
              "      <td>5.985119e-01</td>\n",
              "    </tr>\n",
              "    <tr>\n",
              "      <th>0.01</th>\n",
              "      <td>1.396280e-02</td>\n",
              "      <td>0.101927</td>\n",
              "      <td>0.004874</td>\n",
              "      <td>0.049222</td>\n",
              "      <td>5.033638e-05</td>\n",
              "    </tr>\n",
              "    <tr>\n",
              "      <th>0.02</th>\n",
              "      <td>3.818721e-02</td>\n",
              "      <td>0.014091</td>\n",
              "      <td>0.002699</td>\n",
              "      <td>0.093906</td>\n",
              "      <td>1.761599e-06</td>\n",
              "    </tr>\n",
              "    <tr>\n",
              "      <th>0.03</th>\n",
              "      <td>2.352867e-06</td>\n",
              "      <td>0.054445</td>\n",
              "      <td>0.036289</td>\n",
              "      <td>0.225402</td>\n",
              "      <td>1.824030e-01</td>\n",
              "    </tr>\n",
              "    <tr>\n",
              "      <th>0.04</th>\n",
              "      <td>1.374793e-01</td>\n",
              "      <td>0.000070</td>\n",
              "      <td>0.025481</td>\n",
              "      <td>0.366018</td>\n",
              "      <td>1.000601e-01</td>\n",
              "    </tr>\n",
              "    <tr>\n",
              "      <th>0.05</th>\n",
              "      <td>1.837148e-04</td>\n",
              "      <td>0.059177</td>\n",
              "      <td>0.118354</td>\n",
              "      <td>0.334494</td>\n",
              "      <td>7.179092e-02</td>\n",
              "    </tr>\n",
              "    <tr>\n",
              "      <th>0.06</th>\n",
              "      <td>3.034435e-02</td>\n",
              "      <td>0.028783</td>\n",
              "      <td>0.068844</td>\n",
              "      <td>0.040650</td>\n",
              "      <td>9.590522e-05</td>\n",
              "    </tr>\n",
              "    <tr>\n",
              "      <th>0.07</th>\n",
              "      <td>1.186031e-04</td>\n",
              "      <td>0.034211</td>\n",
              "      <td>0.046114</td>\n",
              "      <td>0.378378</td>\n",
              "      <td>1.029892e-02</td>\n",
              "    </tr>\n",
              "    <tr>\n",
              "      <th>0.08</th>\n",
              "      <td>6.755558e-03</td>\n",
              "      <td>0.000995</td>\n",
              "      <td>0.000306</td>\n",
              "      <td>0.049014</td>\n",
              "      <td>1.488833e-05</td>\n",
              "    </tr>\n",
              "    <tr>\n",
              "      <th>0.09</th>\n",
              "      <td>3.694549e-07</td>\n",
              "      <td>0.183801</td>\n",
              "      <td>0.191978</td>\n",
              "      <td>0.153946</td>\n",
              "      <td>9.928749e-11</td>\n",
              "    </tr>\n",
              "  </tbody>\n",
              "</table>\n",
              "</div>"
            ],
            "text/plain": [
              "               0.5       0.6       0.7       0.8           0.9\n",
              "0.00  5.568299e-03  0.032414  0.102908  0.052873  5.985119e-01\n",
              "0.01  1.396280e-02  0.101927  0.004874  0.049222  5.033638e-05\n",
              "0.02  3.818721e-02  0.014091  0.002699  0.093906  1.761599e-06\n",
              "0.03  2.352867e-06  0.054445  0.036289  0.225402  1.824030e-01\n",
              "0.04  1.374793e-01  0.000070  0.025481  0.366018  1.000601e-01\n",
              "0.05  1.837148e-04  0.059177  0.118354  0.334494  7.179092e-02\n",
              "0.06  3.034435e-02  0.028783  0.068844  0.040650  9.590522e-05\n",
              "0.07  1.186031e-04  0.034211  0.046114  0.378378  1.029892e-02\n",
              "0.08  6.755558e-03  0.000995  0.000306  0.049014  1.488833e-05\n",
              "0.09  3.694549e-07  0.183801  0.191978  0.153946  9.928749e-11"
            ]
          },
          "metadata": {
            "tags": []
          },
          "execution_count": 84
        }
      ]
    },
    {
      "cell_type": "markdown",
      "metadata": {
        "colab_type": "text",
        "id": "VaaIk1VefDVZ"
      },
      "source": [
        "#### Преобразование с использованием медианы"
      ]
    },
    {
      "cell_type": "markdown",
      "metadata": {
        "colab_type": "text",
        "id": "tJG0EUbzfKLy"
      },
      "source": [
        "Использовать тест д'Агостино на $k^2$ для сформированных групп"
      ]
    },
    {
      "cell_type": "code",
      "metadata": {
        "colab_type": "code",
        "id": "pWouM5NifKLz",
        "colab": {}
      },
      "source": [
        "t = p2em_grouped.apply(\n",
        "    lambda x: pd.Series(stats.normaltest(x), index=['S', 'P'])\n",
        ")"
      ],
      "execution_count": 0,
      "outputs": []
    },
    {
      "cell_type": "markdown",
      "metadata": {
        "colab_type": "text",
        "id": "5wV-gckQfKL3"
      },
      "source": [
        "Добавть сведения о результатах теста в сводную таблицу"
      ]
    },
    {
      "cell_type": "code",
      "metadata": {
        "colab_type": "code",
        "id": "kCGkQIwqfKL3",
        "colab": {}
      },
      "source": [
        "p2em_norm['ak2_s2k2'] = t['S']\n",
        "p2em_norm['ak2_p'] = t['P']"
      ],
      "execution_count": 0,
      "outputs": []
    },
    {
      "cell_type": "markdown",
      "metadata": {
        "colab_type": "text",
        "id": "mWieRvc8fKL7"
      },
      "source": [
        "Отобразить сведения о статистике $s^2 + k^2$ теста"
      ]
    },
    {
      "cell_type": "code",
      "metadata": {
        "colab_type": "code",
        "outputId": "75cde253-312e-4666-85d1-aeaba676b19b",
        "id": "i6g_q8uRfKL8",
        "colab": {
          "base_uri": "https://localhost:8080/",
          "height": 359
        }
      },
      "source": [
        "get_compact_table(t['S'].to_frame())"
      ],
      "execution_count": 87,
      "outputs": [
        {
          "output_type": "execute_result",
          "data": {
            "text/html": [
              "<div>\n",
              "<style scoped>\n",
              "    .dataframe tbody tr th:only-of-type {\n",
              "        vertical-align: middle;\n",
              "    }\n",
              "\n",
              "    .dataframe tbody tr th {\n",
              "        vertical-align: top;\n",
              "    }\n",
              "\n",
              "    .dataframe thead th {\n",
              "        text-align: right;\n",
              "    }\n",
              "</style>\n",
              "<table border=\"1\" class=\"dataframe\">\n",
              "  <thead>\n",
              "    <tr style=\"text-align: right;\">\n",
              "      <th></th>\n",
              "      <th>0.5</th>\n",
              "      <th>0.6</th>\n",
              "      <th>0.7</th>\n",
              "      <th>0.8</th>\n",
              "      <th>0.9</th>\n",
              "    </tr>\n",
              "  </thead>\n",
              "  <tbody>\n",
              "    <tr>\n",
              "      <th>0.00</th>\n",
              "      <td>7.374715</td>\n",
              "      <td>25.369989</td>\n",
              "      <td>48.212978</td>\n",
              "      <td>38.754105</td>\n",
              "      <td>14.190513</td>\n",
              "    </tr>\n",
              "    <tr>\n",
              "      <th>0.01</th>\n",
              "      <td>16.558699</td>\n",
              "      <td>7.419303</td>\n",
              "      <td>48.383183</td>\n",
              "      <td>14.344342</td>\n",
              "      <td>15.146137</td>\n",
              "    </tr>\n",
              "    <tr>\n",
              "      <th>0.02</th>\n",
              "      <td>4.318254</td>\n",
              "      <td>28.067665</td>\n",
              "      <td>12.319874</td>\n",
              "      <td>36.285252</td>\n",
              "      <td>33.260754</td>\n",
              "    </tr>\n",
              "    <tr>\n",
              "      <th>0.03</th>\n",
              "      <td>24.572010</td>\n",
              "      <td>6.574330</td>\n",
              "      <td>11.065355</td>\n",
              "      <td>89.899788</td>\n",
              "      <td>19.592220</td>\n",
              "    </tr>\n",
              "    <tr>\n",
              "      <th>0.04</th>\n",
              "      <td>9.355349</td>\n",
              "      <td>37.255234</td>\n",
              "      <td>18.357470</td>\n",
              "      <td>41.630142</td>\n",
              "      <td>16.600857</td>\n",
              "    </tr>\n",
              "    <tr>\n",
              "      <th>0.05</th>\n",
              "      <td>19.318348</td>\n",
              "      <td>16.575811</td>\n",
              "      <td>33.986496</td>\n",
              "      <td>16.076513</td>\n",
              "      <td>5.981524</td>\n",
              "    </tr>\n",
              "    <tr>\n",
              "      <th>0.06</th>\n",
              "      <td>20.962297</td>\n",
              "      <td>11.273658</td>\n",
              "      <td>23.570662</td>\n",
              "      <td>17.829153</td>\n",
              "      <td>5.416739</td>\n",
              "    </tr>\n",
              "    <tr>\n",
              "      <th>0.07</th>\n",
              "      <td>21.568850</td>\n",
              "      <td>22.963104</td>\n",
              "      <td>17.083937</td>\n",
              "      <td>12.704742</td>\n",
              "      <td>16.464516</td>\n",
              "    </tr>\n",
              "    <tr>\n",
              "      <th>0.08</th>\n",
              "      <td>19.726006</td>\n",
              "      <td>13.604913</td>\n",
              "      <td>17.914360</td>\n",
              "      <td>27.304567</td>\n",
              "      <td>31.525263</td>\n",
              "    </tr>\n",
              "    <tr>\n",
              "      <th>0.09</th>\n",
              "      <td>24.892685</td>\n",
              "      <td>21.447357</td>\n",
              "      <td>29.037016</td>\n",
              "      <td>15.971045</td>\n",
              "      <td>24.833168</td>\n",
              "    </tr>\n",
              "  </tbody>\n",
              "</table>\n",
              "</div>"
            ],
            "text/plain": [
              "            0.5        0.6        0.7        0.8        0.9\n",
              "0.00   7.374715  25.369989  48.212978  38.754105  14.190513\n",
              "0.01  16.558699   7.419303  48.383183  14.344342  15.146137\n",
              "0.02   4.318254  28.067665  12.319874  36.285252  33.260754\n",
              "0.03  24.572010   6.574330  11.065355  89.899788  19.592220\n",
              "0.04   9.355349  37.255234  18.357470  41.630142  16.600857\n",
              "0.05  19.318348  16.575811  33.986496  16.076513   5.981524\n",
              "0.06  20.962297  11.273658  23.570662  17.829153   5.416739\n",
              "0.07  21.568850  22.963104  17.083937  12.704742  16.464516\n",
              "0.08  19.726006  13.604913  17.914360  27.304567  31.525263\n",
              "0.09  24.892685  21.447357  29.037016  15.971045  24.833168"
            ]
          },
          "metadata": {
            "tags": []
          },
          "execution_count": 87
        }
      ]
    },
    {
      "cell_type": "markdown",
      "metadata": {
        "colab_type": "text",
        "id": "yNhyEfDNfKMA"
      },
      "source": [
        "Отобразить сведения о $p$-уровне значимости"
      ]
    },
    {
      "cell_type": "code",
      "metadata": {
        "colab_type": "code",
        "outputId": "3aae792d-f2cb-4db1-9bc7-1b2e9ce28af6",
        "id": "uLfetHC8fKMC",
        "colab": {
          "base_uri": "https://localhost:8080/",
          "height": 359
        }
      },
      "source": [
        "get_compact_table(t['P'].to_frame())"
      ],
      "execution_count": 88,
      "outputs": [
        {
          "output_type": "execute_result",
          "data": {
            "text/html": [
              "<div>\n",
              "<style scoped>\n",
              "    .dataframe tbody tr th:only-of-type {\n",
              "        vertical-align: middle;\n",
              "    }\n",
              "\n",
              "    .dataframe tbody tr th {\n",
              "        vertical-align: top;\n",
              "    }\n",
              "\n",
              "    .dataframe thead th {\n",
              "        text-align: right;\n",
              "    }\n",
              "</style>\n",
              "<table border=\"1\" class=\"dataframe\">\n",
              "  <thead>\n",
              "    <tr style=\"text-align: right;\">\n",
              "      <th></th>\n",
              "      <th>0.5</th>\n",
              "      <th>0.6</th>\n",
              "      <th>0.7</th>\n",
              "      <th>0.8</th>\n",
              "      <th>0.9</th>\n",
              "    </tr>\n",
              "  </thead>\n",
              "  <tbody>\n",
              "    <tr>\n",
              "      <th>0.00</th>\n",
              "      <td>0.025038</td>\n",
              "      <td>3.097253e-06</td>\n",
              "      <td>3.393788e-11</td>\n",
              "      <td>3.842845e-09</td>\n",
              "      <td>8.290284e-04</td>\n",
              "    </tr>\n",
              "    <tr>\n",
              "      <th>0.01</th>\n",
              "      <td>0.000254</td>\n",
              "      <td>2.448606e-02</td>\n",
              "      <td>3.116920e-11</td>\n",
              "      <td>7.676544e-04</td>\n",
              "      <td>5.141125e-04</td>\n",
              "    </tr>\n",
              "    <tr>\n",
              "      <th>0.02</th>\n",
              "      <td>0.115426</td>\n",
              "      <td>8.038664e-07</td>\n",
              "      <td>2.112386e-03</td>\n",
              "      <td>1.320559e-08</td>\n",
              "      <td>5.991269e-08</td>\n",
              "    </tr>\n",
              "    <tr>\n",
              "      <th>0.03</th>\n",
              "      <td>0.000005</td>\n",
              "      <td>3.735961e-02</td>\n",
              "      <td>3.955383e-03</td>\n",
              "      <td>3.009605e-20</td>\n",
              "      <td>5.566774e-05</td>\n",
              "    </tr>\n",
              "    <tr>\n",
              "      <th>0.04</th>\n",
              "      <td>0.009301</td>\n",
              "      <td>8.130714e-09</td>\n",
              "      <td>1.032110e-04</td>\n",
              "      <td>9.122819e-10</td>\n",
              "      <td>2.484103e-04</td>\n",
              "    </tr>\n",
              "    <tr>\n",
              "      <th>0.05</th>\n",
              "      <td>0.000064</td>\n",
              "      <td>2.515406e-04</td>\n",
              "      <td>4.167982e-08</td>\n",
              "      <td>3.228714e-04</td>\n",
              "      <td>5.024913e-02</td>\n",
              "    </tr>\n",
              "    <tr>\n",
              "      <th>0.06</th>\n",
              "      <td>0.000028</td>\n",
              "      <td>3.564154e-03</td>\n",
              "      <td>7.615454e-06</td>\n",
              "      <td>1.344153e-04</td>\n",
              "      <td>6.664538e-02</td>\n",
              "    </tr>\n",
              "    <tr>\n",
              "      <th>0.07</th>\n",
              "      <td>0.000021</td>\n",
              "      <td>1.031870e-05</td>\n",
              "      <td>1.951059e-04</td>\n",
              "      <td>1.742610e-03</td>\n",
              "      <td>2.659351e-04</td>\n",
              "    </tr>\n",
              "    <tr>\n",
              "      <th>0.08</th>\n",
              "      <td>0.000052</td>\n",
              "      <td>1.111043e-03</td>\n",
              "      <td>1.288090e-04</td>\n",
              "      <td>1.177303e-06</td>\n",
              "      <td>1.426843e-07</td>\n",
              "    </tr>\n",
              "    <tr>\n",
              "      <th>0.09</th>\n",
              "      <td>0.000004</td>\n",
              "      <td>2.201738e-05</td>\n",
              "      <td>4.950990e-07</td>\n",
              "      <td>3.403545e-04</td>\n",
              "      <td>4.050849e-06</td>\n",
              "    </tr>\n",
              "  </tbody>\n",
              "</table>\n",
              "</div>"
            ],
            "text/plain": [
              "           0.5           0.6           0.7           0.8           0.9\n",
              "0.00  0.025038  3.097253e-06  3.393788e-11  3.842845e-09  8.290284e-04\n",
              "0.01  0.000254  2.448606e-02  3.116920e-11  7.676544e-04  5.141125e-04\n",
              "0.02  0.115426  8.038664e-07  2.112386e-03  1.320559e-08  5.991269e-08\n",
              "0.03  0.000005  3.735961e-02  3.955383e-03  3.009605e-20  5.566774e-05\n",
              "0.04  0.009301  8.130714e-09  1.032110e-04  9.122819e-10  2.484103e-04\n",
              "0.05  0.000064  2.515406e-04  4.167982e-08  3.228714e-04  5.024913e-02\n",
              "0.06  0.000028  3.564154e-03  7.615454e-06  1.344153e-04  6.664538e-02\n",
              "0.07  0.000021  1.031870e-05  1.951059e-04  1.742610e-03  2.659351e-04\n",
              "0.08  0.000052  1.111043e-03  1.288090e-04  1.177303e-06  1.426843e-07\n",
              "0.09  0.000004  2.201738e-05  4.950990e-07  3.403545e-04  4.050849e-06"
            ]
          },
          "metadata": {
            "tags": []
          },
          "execution_count": 88
        }
      ]
    },
    {
      "cell_type": "markdown",
      "metadata": {
        "id": "MG-qv41JTR89",
        "colab_type": "text"
      },
      "source": [
        "## Формирование отчета"
      ]
    },
    {
      "cell_type": "markdown",
      "metadata": {
        "id": "ndDmg24gMH8I",
        "colab_type": "text"
      },
      "source": [
        "Сформировать отчет и сохранить на виртуальной машине"
      ]
    },
    {
      "cell_type": "code",
      "metadata": {
        "id": "gu-VZ7l6T7Pe",
        "colab_type": "code",
        "colab": {}
      },
      "source": [
        "with pd.ExcelWriter('p2e.xlsx') as writer:\n",
        "  p2ee_stats.to_excel(writer, sheet_name='Stats-P2EE')\n",
        "  p2em_stats.to_excel(writer, sheet_name='Stats-P2EM')\n",
        "\n",
        "  p2ee_norm.to_excel(writer, sheet_name='Norm-P2EE')\n",
        "  p2em_norm.to_excel(writer, sheet_name='Norm-P2EM')"
      ],
      "execution_count": 0,
      "outputs": []
    },
    {
      "cell_type": "markdown",
      "metadata": {
        "id": "l9ryyF_yNGZJ",
        "colab_type": "text"
      },
      "source": [
        "Перенести отчет на Google Drive"
      ]
    },
    {
      "cell_type": "code",
      "metadata": {
        "id": "qGQJGOm-M8zK",
        "colab_type": "code",
        "colab": {}
      },
      "source": [
        "p2e_file = drive.CreateFile({\n",
        "    'title': 'p2e.xlsx',\n",
        "    'parents': [{\n",
        "        'kind': 'drive#fileLink',\n",
        "        'id': folder_id,\n",
        "    }],\n",
        "})\n",
        "\n",
        "p2e_file.SetContentFile('p2e.xlsx')\n",
        "p2e_file.Upload()"
      ],
      "execution_count": 0,
      "outputs": []
    },
    {
      "cell_type": "code",
      "metadata": {
        "id": "YN2pAMAAOPDw",
        "colab_type": "code",
        "colab": {}
      },
      "source": [
        ""
      ],
      "execution_count": 0,
      "outputs": []
    }
  ]
}